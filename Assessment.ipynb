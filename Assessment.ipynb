{
 "cells": [
  {
   "cell_type": "markdown",
   "metadata": {},
   "source": [
    "### Project :1 Linear Regression model: Used Cars Sales Prediction"
   ]
  },
  {
   "cell_type": "markdown",
   "metadata": {},
   "source": [
    "There is an automobile company XYZ from USA which aspires to enter the US used car market by setting up their company locally to give competition to their counterparts. They want to understand the factors affecting the pricing of cars in the market, since those may be vastly different from the new car market.\n",
    "       \n",
    "The market for used cars has witnessed a significant surge in demand in recent times, surpassing that of new cars. Consequently, pricing strategies for used vehicles have become crucial for businesses to remain competitive in the market. The value of a used car is influenced by a multitude of factors, such as mileage, model, and year of production. It is imperative for industry players to consider these variables while determining the actual worth of a used car.\n",
    "      \n",
    "First step document that lists the output of your exploratory analysis, any issues, or problems you may see with data that need follow-up, and some basic descriptive analysis that you think highlights important outcomes/findings from the data. Based on your findings, the next level of analysis will be charted out. Build a multiple linear regression model for predicting the price of a used car and provide meaningful inferences.\n"
   ]
  },
  {
   "cell_type": "markdown",
   "metadata": {},
   "source": [
    "**Dataset: Used_cars_sales.xlsx**"
   ]
  },
  {
   "cell_type": "markdown",
   "metadata": {},
   "source": [
    "**Data Dictionary**\n",
    "\n",
    "    Name \t                 Name of the Car on Sell \n",
    "    City \t                 City of the Car on Sell \n",
    "    Years             \t     Year of manufacture \n",
    "    Km_driven  \t             Kms Car travelled \n",
    "    Fuel_Type  \t             Petrol, Diesel, CNG \n",
    "    Transmission  \t         Manual, Automatic \n",
    "    Owner_Type     \t         First, Second, Third \n",
    "    Mileage  \t             Mileage of the Car \n",
    "    Engine \t                 Engine Displacement \n",
    "    Power             \t     Power of Engine \n",
    "    Seats              \t     No. of Seats in Car \n",
    "    Selling_price   \t     Selling price of a Car (Target)"
   ]
  },
  {
   "cell_type": "markdown",
   "metadata": {},
   "source": [
    "**Initial Guidelines:**\n",
    "\n",
    "1.\tEnsure to follow to Use Id’s provided by UNext for naming file as conventions.\n",
    "2.\tCreate GitHub account and submit the GitHub link."
   ]
  },
  {
   "cell_type": "markdown",
   "metadata": {},
   "source": [
    "### Software Engineering aspect:  \n",
    "\n",
    "Utilize software engineering aspects while building Machine learning model using modular programming principles to organize your code into reusable functions or classes to enhance readability, maintainability, and collaboration."
   ]
  },
  {
   "cell_type": "markdown",
   "metadata": {},
   "source": [
    "### General Instructions \n",
    "\n",
    "- The cells in the Jupyter notebook can be executed any number of times for testing the solution\n",
    "- Refrain from modifying the boilerplate code as it may lead to unexpected behavior \n",
    "- The solution is to be written between the comments `# code starts here` and `# code ends here`\n",
    "- On completing all the questions, the assessment is to be submitted on moodle for evaluation\n",
    "- Before submitting the assessment, there should be `no error` while executing the notebook. If there are any error causing code, please comment it.\n",
    "- The kernel of the Jupyter notebook is to be set as `Python 3 (ipykernel)` if not set already\n",
    "- Include imports as necessary\n",
    "- For each of the task, `Note` section will provide you hints to solve the problem.\n",
    "- Do not use `PRINT` statement inside the `Except` Block. Please use `return` statement only within the except block"
   ]
  },
  {
   "cell_type": "markdown",
   "metadata": {},
   "source": [
    "#### **Utilize software engineering aspects while building Machine learning model using modular programming principles to organize your code into reusable functions or classes to enhance readability, maintainability, and collaboration.**"
   ]
  },
  {
   "cell_type": "markdown",
   "metadata": {},
   "source": [
    "### Loading required libraries and packages "
   ]
  },
  {
   "cell_type": "markdown",
   "metadata": {},
   "source": [
    "#### NOTE:\n",
    "Import various libraries and modules used in data analysis, machine learning, and visualization tasks in Python such as `pandas`, `numpy`, `sklearn`, `matplotlib`, `seaborn`, `statsmodels`, `statsmodels.api`, `sklearn.model_selection`, `sklearn.linear_model`, `sklearn.metrics`, `sklearn.preprocessing`. There are 2 ways to import the libraries and modules:\n",
    "* import numpy as np\n",
    "* from sklearn.model_selection import train_test_split"
   ]
  },
  {
   "cell_type": "code",
   "execution_count": 1,
   "metadata": {},
   "outputs": [],
   "source": [
    "# Required imports\n",
    "import numpy as np\n",
    "import pandas as pd\n",
    "import matplotlib.pyplot as plt\n",
    "import seaborn as sns\n",
    "\n"
   ]
  },
  {
   "cell_type": "markdown",
   "metadata": {},
   "source": [
    "### Task 1: Load the 'car_sales-dataset' available in the Dataset folder within the Project folder on the desktop. Perform preliminary EDA with key observations and insights- (weightage - 20 marks)"
   ]
  },
  {
   "cell_type": "markdown",
   "metadata": {},
   "source": [
    "#### T1.1: Load the Used_cars_sales dataset using try and except blocks.          (weightage - 2 marks) (AE)        \n",
    "\n",
    "#### NOTE:\n",
    "- The `read_excel` method in Pandas allows you to read Excel files and convert them into a DataFrame, which is a two-dimensional tabular data structure in Pandas.\n",
    "- Do not use `PRINT` statement inside the `Except` Block. Please use `return` statement only within the except block"
   ]
  },
  {
   "cell_type": "code",
   "execution_count": 2,
   "metadata": {},
   "outputs": [],
   "source": [
    "def load_the_dataset(dataset_location : str)->pd.DataFrame:\n",
    "    car_sales = None\n",
    "    # code starts here\n",
    "    try:\n",
    "        car_sales=pd.read_excel(\"Used_cars_sales.xlsx\")\n",
    "    except:\n",
    "        return \"file not found\"\n",
    "               \n",
    "    # code ends here\n",
    "    return car_sales       "
   ]
  },
  {
   "cell_type": "code",
   "execution_count": 3,
   "metadata": {},
   "outputs": [
    {
     "name": "stdout",
     "output_type": "stream",
     "text": [
      "      Sales_ID                          name  year  selling_price  km_driven  \\\n",
      "0            1        Maruti Swift Dzire VDI  2014         450000     145500   \n",
      "1            2  Skoda Rapid 1.5 TDI Ambition  2014         370000     120000   \n",
      "2            3      Honda City 2017-2020 EXi  2006         158000     140000   \n",
      "3            4     Hyundai i20 Sportz Diesel  2010         225000     127000   \n",
      "4            5        Maruti Swift VXI BSIII  2007         130000     120000   \n",
      "...        ...                           ...   ...            ...        ...   \n",
      "7901      8124             Hyundai i20 Magna  2013         320000     110000   \n",
      "7902      8125         Hyundai Verna CRDi SX  2007         135000     119000   \n",
      "7903      8126        Maruti Swift Dzire ZDi  2009         382000     120000   \n",
      "7904      8127               Tata Indigo CR4  2013         290000      25000   \n",
      "7905      8128               Tata Indigo CR4  2013         290000      25000   \n",
      "\n",
      "        fuel seller_type transmission         owner     mileage   engine  \\\n",
      "0     Diesel  Individual       Manual   First Owner   23.4 kmpl  1248 CC   \n",
      "1     Diesel  Individual       Manual  Second Owner  21.14 kmpl  1498 CC   \n",
      "2     Petrol  Individual       Manual   Third Owner   17.7 kmpl  1497 CC   \n",
      "3     Diesel  Individual       Manual   First Owner   23.0 kmpl  1396 CC   \n",
      "4     Petrol  Individual       Manual   First Owner   16.1 kmpl  1298 CC   \n",
      "...      ...         ...          ...           ...         ...      ...   \n",
      "7901  Petrol  Individual       Manual   First Owner   18.5 kmpl  1197 CC   \n",
      "7902  Diesel  Individual       Manual   Third Owner   16.8 kmpl  1493 CC   \n",
      "7903  Diesel  Individual       Manual   First Owner   19.3 kmpl  1248 CC   \n",
      "7904  Diesel  Individual       Manual   First Owner  23.57 kmpl  1396 CC   \n",
      "7905  Diesel  Individual       Manual   First Owner  23.57 kmpl  1396 CC   \n",
      "\n",
      "       max_power  seats      City  Postal_code Sales_status  \n",
      "0         74 bhp      5    Mumbai       400001            Y  \n",
      "1     103.52 bhp      5    Ranchi       834008            Y  \n",
      "2         78 bhp      5     Noida       201301            Y  \n",
      "3         90 bhp      5  Dehradun       248141            Y  \n",
      "4       88.2 bhp      5   Chennai       600020            Y  \n",
      "...          ...    ...       ...          ...          ...  \n",
      "7901   82.85 bhp      5    Indore       453551            N  \n",
      "7902     110 bhp      5  Dehradun       248141            N  \n",
      "7903    73.9 bhp      5   Kolkata       700027            N  \n",
      "7904      70 bhp      5   Vellore       632001            N  \n",
      "7905      70 bhp      5  Dehradun       248141            N  \n",
      "\n",
      "[7906 rows x 16 columns]\n"
     ]
    }
   ],
   "source": [
    "# store the result of the dataset\n",
    "dataset_location = 'Used_cars_sales.xlsx'\n",
    "car_sales=load_the_dataset(dataset_location)\n",
    "print(car_sales)"
   ]
  },
  {
   "cell_type": "markdown",
   "metadata": {},
   "source": [
    "#### T1.2: Which brand is selling most?        (weightage - 2 marks)  (AE)             \n",
    "\n",
    "**Hint: output should be the name of the brand only.**\n",
    "\n",
    "#### NOTE:\n",
    "To count each unique value in the 'name' column of the DataFrame car_sales we can use the value_counts() method. It returns a Series where the index contains unique car names, and the values represent the frequency of each name in the DataFrame.\n",
    "To find the name of the car brand with the maximum count we can use the idxmax() method on the series. It returns the name of the most selling brand in the DataFrame."
   ]
  },
  {
   "cell_type": "code",
   "execution_count": 4,
   "metadata": {},
   "outputs": [
    {
     "data": {
      "text/plain": [
       "Index(['Sales_ID', 'name', 'year', 'selling_price', 'km_driven', 'fuel',\n",
       "       'seller_type', 'transmission', 'owner', 'mileage', 'engine',\n",
       "       'max_power', 'seats', 'City', 'Postal_code', 'Sales_status'],\n",
       "      dtype='object')"
      ]
     },
     "execution_count": 4,
     "metadata": {},
     "output_type": "execute_result"
    }
   ],
   "source": [
    "car_sales.columns"
   ]
  },
  {
   "cell_type": "code",
   "execution_count": 5,
   "metadata": {},
   "outputs": [],
   "source": [
    "def get_name_value_counts(car_sales):\n",
    "    most_selling_brand = None\n",
    "    #code starts here\n",
    "    name_count=car_sales['name'].value_counts()\n",
    "    most_selling_brand=name_count.idxmax()\n",
    "\n",
    "    #code ends here\n",
    "    return most_selling_brand"
   ]
  },
  {
   "cell_type": "code",
   "execution_count": 6,
   "metadata": {},
   "outputs": [
    {
     "data": {
      "text/plain": [
       "'Maruti Swift Dzire VDI'"
      ]
     },
     "execution_count": 6,
     "metadata": {},
     "output_type": "execute_result"
    }
   ],
   "source": [
    "get_name_value_counts(car_sales)"
   ]
  },
  {
   "cell_type": "markdown",
   "metadata": {},
   "source": [
    "#### T1.3: Name the top 5 cities which has highest sales. (weightage - 2 marks)               (AE)\n",
    "**Hint: Output should be city name only in the format of list**\n",
    "\n",
    "#### NOTE:\n",
    "To calculate the count of each unique value in the 'City' column of the DataFrame data use the value_counts() method. It will returns a Series where the index contains unique city names, and the values represent the frequency of each city in the DataFrame.\n",
    "Now to select the top 5 cities with the highest sales count use the head() method on the Series. By default, head() returns the first 5 rows of the Series, which in this case, correspond to the cities with the highest sales."
   ]
  },
  {
   "cell_type": "code",
   "execution_count": 7,
   "metadata": {},
   "outputs": [],
   "source": [
    "def get_city_value_counts(data):\n",
    "    city_with_max_sales = None\n",
    "    #code starts here\n",
    "    city_with_max_sales=data['City'].value_counts()\n",
    "    #code ends here\n",
    "    return city_with_max_sales.head()"
   ]
  },
  {
   "cell_type": "code",
   "execution_count": 8,
   "metadata": {},
   "outputs": [
    {
     "data": {
      "text/plain": [
       "['Delhi', 'Noida', 'Mumbai', 'Coimbatore', 'Vellore']"
      ]
     },
     "execution_count": 8,
     "metadata": {},
     "output_type": "execute_result"
    }
   ],
   "source": [
    "# Remove 'name', 'count', and 'dtype' information   \n",
    "city_name=get_city_value_counts(car_sales)\n",
    "list(city_name.index)"
   ]
  },
  {
   "cell_type": "markdown",
   "metadata": {},
   "source": [
    "#### T1.4: Check missing values in the data in terms of percentage using error handling technique and do missing value treatment.  (weightage - 2 marks)       (AE) \n",
    "\n",
    "#### NOTE:\n",
    "- Find the percentage of missing values in the data by dividing the total number of missing values by the total number of rows and multiplying by 100, you - will get the percentage of missing values for each column. \n",
    "Use `isnull().sum()` to calculate the total number of missing values in each column and `shape[0]` to get the total number of rows in the DataFrame.\n",
    "- Do not use `PRINT` statement inside the `Except` Block. Please use `return` statement only within the except block"
   ]
  },
  {
   "cell_type": "code",
   "execution_count": 9,
   "metadata": {},
   "outputs": [],
   "source": [
    "def missing_value_check(data):\n",
    "    missing_percentage = None\n",
    "    #code starts here\n",
    "    try:\n",
    "        missing_percentage=(data.isnull().sum()/(data.shape[0])*100)\n",
    "    except:\n",
    "        return \"value not found\"\n",
    "    #code ends here\n",
    "    return missing_percentage"
   ]
  },
  {
   "cell_type": "code",
   "execution_count": 10,
   "metadata": {},
   "outputs": [
    {
     "data": {
      "text/plain": [
       "Sales_ID         0.000000\n",
       "name             0.000000\n",
       "year             0.000000\n",
       "selling_price    0.000000\n",
       "km_driven        0.000000\n",
       "fuel             0.240324\n",
       "seller_type      0.202378\n",
       "transmission     0.000000\n",
       "owner            0.000000\n",
       "mileage          0.000000\n",
       "engine           0.000000\n",
       "max_power        0.000000\n",
       "seats            0.000000\n",
       "City             0.000000\n",
       "Postal_code      0.000000\n",
       "Sales_status     0.000000\n",
       "dtype: float64"
      ]
     },
     "execution_count": 10,
     "metadata": {},
     "output_type": "execute_result"
    }
   ],
   "source": [
    "missing_value_check(car_sales)"
   ]
  },
  {
   "cell_type": "markdown",
   "metadata": {},
   "source": [
    "#### NOTE:\n",
    "For treating the missing value first define the list of columns containing the names of the columns with missing values which will be treated. Iterating over each column name in the columns list fill the missing values in the dataset for that column with the mode value of that column. "
   ]
  },
  {
   "cell_type": "code",
   "execution_count": 11,
   "metadata": {},
   "outputs": [],
   "source": [
    "# Missing value treatment\n",
    "def missing_value_treatment(car_sales):\n",
    "    # Example: Replace missing values with mode value\n",
    "    missing_col=[col for col in car_sales.columns if car_sales[col].isnull().any()]\n",
    "    for col in missing_col:\n",
    "        mode=car_sales[col].mode()[0]\n",
    "        car_sales[col].fillna(mode,inplace=True)\n",
    "\n",
    "        \n",
    "    return car_sales"
   ]
  },
  {
   "cell_type": "code",
   "execution_count": 12,
   "metadata": {},
   "outputs": [
    {
     "data": {
      "text/html": [
       "<div>\n",
       "<style scoped>\n",
       "    .dataframe tbody tr th:only-of-type {\n",
       "        vertical-align: middle;\n",
       "    }\n",
       "\n",
       "    .dataframe tbody tr th {\n",
       "        vertical-align: top;\n",
       "    }\n",
       "\n",
       "    .dataframe thead th {\n",
       "        text-align: right;\n",
       "    }\n",
       "</style>\n",
       "<table border=\"1\" class=\"dataframe\">\n",
       "  <thead>\n",
       "    <tr style=\"text-align: right;\">\n",
       "      <th></th>\n",
       "      <th>Sales_ID</th>\n",
       "      <th>name</th>\n",
       "      <th>year</th>\n",
       "      <th>selling_price</th>\n",
       "      <th>km_driven</th>\n",
       "      <th>fuel</th>\n",
       "      <th>seller_type</th>\n",
       "      <th>transmission</th>\n",
       "      <th>owner</th>\n",
       "      <th>mileage</th>\n",
       "      <th>engine</th>\n",
       "      <th>max_power</th>\n",
       "      <th>seats</th>\n",
       "      <th>City</th>\n",
       "      <th>Postal_code</th>\n",
       "      <th>Sales_status</th>\n",
       "    </tr>\n",
       "  </thead>\n",
       "  <tbody>\n",
       "    <tr>\n",
       "      <th>0</th>\n",
       "      <td>1</td>\n",
       "      <td>Maruti Swift Dzire VDI</td>\n",
       "      <td>2014</td>\n",
       "      <td>450000</td>\n",
       "      <td>145500</td>\n",
       "      <td>Diesel</td>\n",
       "      <td>Individual</td>\n",
       "      <td>Manual</td>\n",
       "      <td>First Owner</td>\n",
       "      <td>23.4 kmpl</td>\n",
       "      <td>1248 CC</td>\n",
       "      <td>74 bhp</td>\n",
       "      <td>5</td>\n",
       "      <td>Mumbai</td>\n",
       "      <td>400001</td>\n",
       "      <td>Y</td>\n",
       "    </tr>\n",
       "    <tr>\n",
       "      <th>1</th>\n",
       "      <td>2</td>\n",
       "      <td>Skoda Rapid 1.5 TDI Ambition</td>\n",
       "      <td>2014</td>\n",
       "      <td>370000</td>\n",
       "      <td>120000</td>\n",
       "      <td>Diesel</td>\n",
       "      <td>Individual</td>\n",
       "      <td>Manual</td>\n",
       "      <td>Second Owner</td>\n",
       "      <td>21.14 kmpl</td>\n",
       "      <td>1498 CC</td>\n",
       "      <td>103.52 bhp</td>\n",
       "      <td>5</td>\n",
       "      <td>Ranchi</td>\n",
       "      <td>834008</td>\n",
       "      <td>Y</td>\n",
       "    </tr>\n",
       "    <tr>\n",
       "      <th>2</th>\n",
       "      <td>3</td>\n",
       "      <td>Honda City 2017-2020 EXi</td>\n",
       "      <td>2006</td>\n",
       "      <td>158000</td>\n",
       "      <td>140000</td>\n",
       "      <td>Petrol</td>\n",
       "      <td>Individual</td>\n",
       "      <td>Manual</td>\n",
       "      <td>Third Owner</td>\n",
       "      <td>17.7 kmpl</td>\n",
       "      <td>1497 CC</td>\n",
       "      <td>78 bhp</td>\n",
       "      <td>5</td>\n",
       "      <td>Noida</td>\n",
       "      <td>201301</td>\n",
       "      <td>Y</td>\n",
       "    </tr>\n",
       "    <tr>\n",
       "      <th>3</th>\n",
       "      <td>4</td>\n",
       "      <td>Hyundai i20 Sportz Diesel</td>\n",
       "      <td>2010</td>\n",
       "      <td>225000</td>\n",
       "      <td>127000</td>\n",
       "      <td>Diesel</td>\n",
       "      <td>Individual</td>\n",
       "      <td>Manual</td>\n",
       "      <td>First Owner</td>\n",
       "      <td>23.0 kmpl</td>\n",
       "      <td>1396 CC</td>\n",
       "      <td>90 bhp</td>\n",
       "      <td>5</td>\n",
       "      <td>Dehradun</td>\n",
       "      <td>248141</td>\n",
       "      <td>Y</td>\n",
       "    </tr>\n",
       "    <tr>\n",
       "      <th>4</th>\n",
       "      <td>5</td>\n",
       "      <td>Maruti Swift VXI BSIII</td>\n",
       "      <td>2007</td>\n",
       "      <td>130000</td>\n",
       "      <td>120000</td>\n",
       "      <td>Petrol</td>\n",
       "      <td>Individual</td>\n",
       "      <td>Manual</td>\n",
       "      <td>First Owner</td>\n",
       "      <td>16.1 kmpl</td>\n",
       "      <td>1298 CC</td>\n",
       "      <td>88.2 bhp</td>\n",
       "      <td>5</td>\n",
       "      <td>Chennai</td>\n",
       "      <td>600020</td>\n",
       "      <td>Y</td>\n",
       "    </tr>\n",
       "    <tr>\n",
       "      <th>...</th>\n",
       "      <td>...</td>\n",
       "      <td>...</td>\n",
       "      <td>...</td>\n",
       "      <td>...</td>\n",
       "      <td>...</td>\n",
       "      <td>...</td>\n",
       "      <td>...</td>\n",
       "      <td>...</td>\n",
       "      <td>...</td>\n",
       "      <td>...</td>\n",
       "      <td>...</td>\n",
       "      <td>...</td>\n",
       "      <td>...</td>\n",
       "      <td>...</td>\n",
       "      <td>...</td>\n",
       "      <td>...</td>\n",
       "    </tr>\n",
       "    <tr>\n",
       "      <th>7901</th>\n",
       "      <td>8124</td>\n",
       "      <td>Hyundai i20 Magna</td>\n",
       "      <td>2013</td>\n",
       "      <td>320000</td>\n",
       "      <td>110000</td>\n",
       "      <td>Petrol</td>\n",
       "      <td>Individual</td>\n",
       "      <td>Manual</td>\n",
       "      <td>First Owner</td>\n",
       "      <td>18.5 kmpl</td>\n",
       "      <td>1197 CC</td>\n",
       "      <td>82.85 bhp</td>\n",
       "      <td>5</td>\n",
       "      <td>Indore</td>\n",
       "      <td>453551</td>\n",
       "      <td>N</td>\n",
       "    </tr>\n",
       "    <tr>\n",
       "      <th>7902</th>\n",
       "      <td>8125</td>\n",
       "      <td>Hyundai Verna CRDi SX</td>\n",
       "      <td>2007</td>\n",
       "      <td>135000</td>\n",
       "      <td>119000</td>\n",
       "      <td>Diesel</td>\n",
       "      <td>Individual</td>\n",
       "      <td>Manual</td>\n",
       "      <td>Third Owner</td>\n",
       "      <td>16.8 kmpl</td>\n",
       "      <td>1493 CC</td>\n",
       "      <td>110 bhp</td>\n",
       "      <td>5</td>\n",
       "      <td>Dehradun</td>\n",
       "      <td>248141</td>\n",
       "      <td>N</td>\n",
       "    </tr>\n",
       "    <tr>\n",
       "      <th>7903</th>\n",
       "      <td>8126</td>\n",
       "      <td>Maruti Swift Dzire ZDi</td>\n",
       "      <td>2009</td>\n",
       "      <td>382000</td>\n",
       "      <td>120000</td>\n",
       "      <td>Diesel</td>\n",
       "      <td>Individual</td>\n",
       "      <td>Manual</td>\n",
       "      <td>First Owner</td>\n",
       "      <td>19.3 kmpl</td>\n",
       "      <td>1248 CC</td>\n",
       "      <td>73.9 bhp</td>\n",
       "      <td>5</td>\n",
       "      <td>Kolkata</td>\n",
       "      <td>700027</td>\n",
       "      <td>N</td>\n",
       "    </tr>\n",
       "    <tr>\n",
       "      <th>7904</th>\n",
       "      <td>8127</td>\n",
       "      <td>Tata Indigo CR4</td>\n",
       "      <td>2013</td>\n",
       "      <td>290000</td>\n",
       "      <td>25000</td>\n",
       "      <td>Diesel</td>\n",
       "      <td>Individual</td>\n",
       "      <td>Manual</td>\n",
       "      <td>First Owner</td>\n",
       "      <td>23.57 kmpl</td>\n",
       "      <td>1396 CC</td>\n",
       "      <td>70 bhp</td>\n",
       "      <td>5</td>\n",
       "      <td>Vellore</td>\n",
       "      <td>632001</td>\n",
       "      <td>N</td>\n",
       "    </tr>\n",
       "    <tr>\n",
       "      <th>7905</th>\n",
       "      <td>8128</td>\n",
       "      <td>Tata Indigo CR4</td>\n",
       "      <td>2013</td>\n",
       "      <td>290000</td>\n",
       "      <td>25000</td>\n",
       "      <td>Diesel</td>\n",
       "      <td>Individual</td>\n",
       "      <td>Manual</td>\n",
       "      <td>First Owner</td>\n",
       "      <td>23.57 kmpl</td>\n",
       "      <td>1396 CC</td>\n",
       "      <td>70 bhp</td>\n",
       "      <td>5</td>\n",
       "      <td>Dehradun</td>\n",
       "      <td>248141</td>\n",
       "      <td>N</td>\n",
       "    </tr>\n",
       "  </tbody>\n",
       "</table>\n",
       "<p>7906 rows × 16 columns</p>\n",
       "</div>"
      ],
      "text/plain": [
       "      Sales_ID                          name  year  selling_price  km_driven  \\\n",
       "0            1        Maruti Swift Dzire VDI  2014         450000     145500   \n",
       "1            2  Skoda Rapid 1.5 TDI Ambition  2014         370000     120000   \n",
       "2            3      Honda City 2017-2020 EXi  2006         158000     140000   \n",
       "3            4     Hyundai i20 Sportz Diesel  2010         225000     127000   \n",
       "4            5        Maruti Swift VXI BSIII  2007         130000     120000   \n",
       "...        ...                           ...   ...            ...        ...   \n",
       "7901      8124             Hyundai i20 Magna  2013         320000     110000   \n",
       "7902      8125         Hyundai Verna CRDi SX  2007         135000     119000   \n",
       "7903      8126        Maruti Swift Dzire ZDi  2009         382000     120000   \n",
       "7904      8127               Tata Indigo CR4  2013         290000      25000   \n",
       "7905      8128               Tata Indigo CR4  2013         290000      25000   \n",
       "\n",
       "        fuel seller_type transmission         owner     mileage   engine  \\\n",
       "0     Diesel  Individual       Manual   First Owner   23.4 kmpl  1248 CC   \n",
       "1     Diesel  Individual       Manual  Second Owner  21.14 kmpl  1498 CC   \n",
       "2     Petrol  Individual       Manual   Third Owner   17.7 kmpl  1497 CC   \n",
       "3     Diesel  Individual       Manual   First Owner   23.0 kmpl  1396 CC   \n",
       "4     Petrol  Individual       Manual   First Owner   16.1 kmpl  1298 CC   \n",
       "...      ...         ...          ...           ...         ...      ...   \n",
       "7901  Petrol  Individual       Manual   First Owner   18.5 kmpl  1197 CC   \n",
       "7902  Diesel  Individual       Manual   Third Owner   16.8 kmpl  1493 CC   \n",
       "7903  Diesel  Individual       Manual   First Owner   19.3 kmpl  1248 CC   \n",
       "7904  Diesel  Individual       Manual   First Owner  23.57 kmpl  1396 CC   \n",
       "7905  Diesel  Individual       Manual   First Owner  23.57 kmpl  1396 CC   \n",
       "\n",
       "       max_power  seats      City  Postal_code Sales_status  \n",
       "0         74 bhp      5    Mumbai       400001            Y  \n",
       "1     103.52 bhp      5    Ranchi       834008            Y  \n",
       "2         78 bhp      5     Noida       201301            Y  \n",
       "3         90 bhp      5  Dehradun       248141            Y  \n",
       "4       88.2 bhp      5   Chennai       600020            Y  \n",
       "...          ...    ...       ...          ...          ...  \n",
       "7901   82.85 bhp      5    Indore       453551            N  \n",
       "7902     110 bhp      5  Dehradun       248141            N  \n",
       "7903    73.9 bhp      5   Kolkata       700027            N  \n",
       "7904      70 bhp      5   Vellore       632001            N  \n",
       "7905      70 bhp      5  Dehradun       248141            N  \n",
       "\n",
       "[7906 rows x 16 columns]"
      ]
     },
     "execution_count": 12,
     "metadata": {},
     "output_type": "execute_result"
    }
   ],
   "source": [
    "missing_value_treatment(car_sales)\n"
   ]
  },
  {
   "cell_type": "markdown",
   "metadata": {},
   "source": [
    "#### T1.5: Detect Outliers in the data and do outlier treatment. Plot a boxplot to visualize outliers in the data. (weightage – 2 marks) (ME)       \n",
    "* The extreme values in selling_price due to genuine market conditions, such as luxury properties.Keep the values as it is.\n",
    "\n",
    "#### NOTE:\n",
    "The `sns.boxplot()` function in Seaborn is used to create a box plot visualization, which is a convenient way to visually summarize the distribution of numerical data and identify outliers. Using this detect the outliers in the `car_sales` dataframe. "
   ]
  },
  {
   "cell_type": "code",
   "execution_count": 13,
   "metadata": {},
   "outputs": [
    {
     "data": {
      "image/png": "[encoded data removed]",
      "text/plain": [
       "<Figure size 1000x600 with 1 Axes>"
      ]
     },
     "metadata": {},
     "output_type": "display_data"
    }
   ],
   "source": [
    "# plot a boxplot to visualize outliers in the data\n",
    "plt.figure(figsize=(10,6))\n",
    "sns.boxplot(data=car_sales)\n",
    "plt.title('box plot of each column')\n",
    "plt.xlabel('columns')\n",
    "plt.ylabel('values')\n",
    "plt.show()"
   ]
  },
  {
   "cell_type": "markdown",
   "metadata": {},
   "source": [
    "#### Define a function `treat_outliers_iqr` to treat outliers using IQR method. Use `median` as treatment method."
   ]
  },
  {
   "cell_type": "markdown",
   "metadata": {},
   "source": [
    "#### NOTE:\n",
    "The outliers in the dataset can be treated using the Interquartile Range (IQR) method. It replaces the outliers with either the median or the mean, based on the specified treatment method. Calculate the first quartile (Q1), third quartile (Q3), and Interquartile Range (IQR) of the data along with the lower and upper bounds for outliers. Then replace the outliers with the median of the data."
   ]
  },
  {
   "cell_type": "code",
   "execution_count": 14,
   "metadata": {},
   "outputs": [],
   "source": [
    "# Define a function to detect and treat outliers using IQR method\n",
    "def treat_outliers_iqr(data,treatment='median'):\n",
    "    #code starts here\n",
    "    Q1=data.quantile(0.25)\n",
    "    Q3=data.quantile(0.75)\n",
    "    IQR=Q3-Q1\n",
    "    lower_bound=Q1-1.5*IQR\n",
    "    upper_bound=Q3+1.5*IQR\n",
    "    data=np.where((data<lower_bound)|(data>upper_bound),data.median(),data)\n",
    "    #code ends here\n",
    "    return data"
   ]
  },
  {
   "cell_type": "code",
   "execution_count": 15,
   "metadata": {},
   "outputs": [],
   "source": [
    "# Detect outliers and treat them with median value\n",
    "numeric_columns=['km_driven']"
   ]
  },
  {
   "cell_type": "code",
   "execution_count": 16,
   "metadata": {},
   "outputs": [
    {
     "name": "stdout",
     "output_type": "stream",
     "text": [
      "   Sales_ID                          name  year  selling_price  km_driven  \\\n",
      "0         1        Maruti Swift Dzire VDI  2014         450000   145500.0   \n",
      "1         2  Skoda Rapid 1.5 TDI Ambition  2014         370000   120000.0   \n",
      "2         3      Honda City 2017-2020 EXi  2006         158000   140000.0   \n",
      "3         4     Hyundai i20 Sportz Diesel  2010         225000   127000.0   \n",
      "4         5        Maruti Swift VXI BSIII  2007         130000   120000.0   \n",
      "\n",
      "     fuel seller_type transmission         owner     mileage   engine  \\\n",
      "0  Diesel  Individual       Manual   First Owner   23.4 kmpl  1248 CC   \n",
      "1  Diesel  Individual       Manual  Second Owner  21.14 kmpl  1498 CC   \n",
      "2  Petrol  Individual       Manual   Third Owner   17.7 kmpl  1497 CC   \n",
      "3  Diesel  Individual       Manual   First Owner   23.0 kmpl  1396 CC   \n",
      "4  Petrol  Individual       Manual   First Owner   16.1 kmpl  1298 CC   \n",
      "\n",
      "    max_power  seats      City  Postal_code Sales_status  \n",
      "0      74 bhp      5    Mumbai       400001            Y  \n",
      "1  103.52 bhp      5    Ranchi       834008            Y  \n",
      "2      78 bhp      5     Noida       201301            Y  \n",
      "3      90 bhp      5  Dehradun       248141            Y  \n",
      "4    88.2 bhp      5   Chennai       600020            Y  \n"
     ]
    }
   ],
   "source": [
    "# Display the treated DataFrame\n",
    "for column in numeric_columns:\n",
    "    car_sales[column] = treat_outliers_iqr(car_sales[column], treatment='median')\n",
    "\n",
    "# Display the treated DataFrame\n",
    "print(car_sales.head())"
   ]
  },
  {
   "cell_type": "code",
   "execution_count": 17,
   "metadata": {},
   "outputs": [
    {
     "data": {
      "image/png": "[encoded data removed]",
      "text/plain": [
       "<Figure size 1000x600 with 1 Axes>"
      ]
     },
     "metadata": {},
     "output_type": "display_data"
    }
   ],
   "source": [
    "### Visualization -boxplot\n",
    "plt.figure(figsize=(10,6))\n",
    "sns.boxplot(data=car_sales)\n",
    "plt.title('box plot of each column')\n",
    "plt.xlabel('columns')\n",
    "plt.ylabel('values')\n",
    "plt.show()\n"
   ]
  },
  {
   "cell_type": "markdown",
   "metadata": {},
   "source": [
    "#### T1.6: Which variables are significant in predicting the price of a used car? To answer this question, it is important to understand the correlation between the different variables. i.e how much the other features effect the selling price of a used car. (Bivariate analysis) (weightage - 3 marks)               (AE)"
   ]
  },
  {
   "cell_type": "markdown",
   "metadata": {},
   "source": [
    "#### Cleaning the data"
   ]
  },
  {
   "cell_type": "markdown",
   "metadata": {},
   "source": [
    "#### NOTE:\n",
    "To understand the correlation between different variables , we have to convert the non numeric columns into numeric columns. Clean the data type of the 'max_power', 'engine', and 'mileage' columns in a DataFrame by converting them into numeric types by removing the units in order to perform correlation on them.\n",
    "\n",
    "Removes the following non-numeric suffix using string manipulation functions:\n",
    "* 'bhp' for max_power, \n",
    "* 'CC' for engine, \n",
    "* 'kmpl' or 'km/kg' for mileage\n",
    "\n",
    "Converts the data type of each of the above column to float "
   ]
  },
  {
   "cell_type": "code",
   "execution_count": 18,
   "metadata": {},
   "outputs": [],
   "source": [
    "# define a function to convert data type of Max power, Engine and Mileage into numeric\n",
    "def clean_car_sales_data(df):\n",
    "    #code starts here\n",
    "    df['max_power']=df['max_power'].str.replace('bhp',\"\").astype(float)\n",
    "    df['engine']=df['engine'].str.replace('CC',\"\").astype(float)\n",
    "    df['mileage']=df['mileage'].str.replace('kmpl',\"\")\n",
    "    df['mileage']=df['mileage'].str.replace('km/kg',\"\")\n",
    "    df['mileage']=df['mileage'].astype(float)\n",
    "    #code ends here\n",
    "    return df"
   ]
  },
  {
   "cell_type": "code",
   "execution_count": 19,
   "metadata": {},
   "outputs": [
    {
     "name": "stdout",
     "output_type": "stream",
     "text": [
      "      Sales_ID                          name  year  selling_price  km_driven  \\\n",
      "0            1        Maruti Swift Dzire VDI  2014         450000   145500.0   \n",
      "1            2  Skoda Rapid 1.5 TDI Ambition  2014         370000   120000.0   \n",
      "2            3      Honda City 2017-2020 EXi  2006         158000   140000.0   \n",
      "3            4     Hyundai i20 Sportz Diesel  2010         225000   127000.0   \n",
      "4            5        Maruti Swift VXI BSIII  2007         130000   120000.0   \n",
      "...        ...                           ...   ...            ...        ...   \n",
      "7901      8124             Hyundai i20 Magna  2013         320000   110000.0   \n",
      "7902      8125         Hyundai Verna CRDi SX  2007         135000   119000.0   \n",
      "7903      8126        Maruti Swift Dzire ZDi  2009         382000   120000.0   \n",
      "7904      8127               Tata Indigo CR4  2013         290000    25000.0   \n",
      "7905      8128               Tata Indigo CR4  2013         290000    25000.0   \n",
      "\n",
      "        fuel seller_type transmission         owner  mileage  engine  \\\n",
      "0     Diesel  Individual       Manual   First Owner    23.40  1248.0   \n",
      "1     Diesel  Individual       Manual  Second Owner    21.14  1498.0   \n",
      "2     Petrol  Individual       Manual   Third Owner    17.70  1497.0   \n",
      "3     Diesel  Individual       Manual   First Owner    23.00  1396.0   \n",
      "4     Petrol  Individual       Manual   First Owner    16.10  1298.0   \n",
      "...      ...         ...          ...           ...      ...     ...   \n",
      "7901  Petrol  Individual       Manual   First Owner    18.50  1197.0   \n",
      "7902  Diesel  Individual       Manual   Third Owner    16.80  1493.0   \n",
      "7903  Diesel  Individual       Manual   First Owner    19.30  1248.0   \n",
      "7904  Diesel  Individual       Manual   First Owner    23.57  1396.0   \n",
      "7905  Diesel  Individual       Manual   First Owner    23.57  1396.0   \n",
      "\n",
      "      max_power  seats      City  Postal_code Sales_status  \n",
      "0         74.00      5    Mumbai       400001            Y  \n",
      "1        103.52      5    Ranchi       834008            Y  \n",
      "2         78.00      5     Noida       201301            Y  \n",
      "3         90.00      5  Dehradun       248141            Y  \n",
      "4         88.20      5   Chennai       600020            Y  \n",
      "...         ...    ...       ...          ...          ...  \n",
      "7901      82.85      5    Indore       453551            N  \n",
      "7902     110.00      5  Dehradun       248141            N  \n",
      "7903      73.90      5   Kolkata       700027            N  \n",
      "7904      70.00      5   Vellore       632001            N  \n",
      "7905      70.00      5  Dehradun       248141            N  \n",
      "\n",
      "[7906 rows x 16 columns]\n"
     ]
    }
   ],
   "source": [
    "car_sales = clean_car_sales_data(car_sales)\n",
    "print(car_sales)"
   ]
  },
  {
   "cell_type": "markdown",
   "metadata": {},
   "source": [
    "#### Correlation between numerical variables and target variable"
   ]
  },
  {
   "cell_type": "markdown",
   "metadata": {},
   "source": [
    "#### NOTE:\n",
    "Using Python function `corr` compute the correlation matrix of a DataFrame df containing numeric columns.\n",
    "Ensure that only numeric columns are included in the correlation computation."
   ]
  },
  {
   "cell_type": "code",
   "execution_count": 20,
   "metadata": {},
   "outputs": [],
   "source": [
    "def corr(df):\n",
    "    correlation = None\n",
    "    #code starts here\n",
    "    numeric_df=df.select_dtypes(include=['float64','int64'])\n",
    "    correlation=numeric_df.corr()\n",
    "    #code ends here\n",
    "    return correlation"
   ]
  },
  {
   "cell_type": "code",
   "execution_count": 21,
   "metadata": {},
   "outputs": [
    {
     "data": {
      "text/html": [
       "<div>\n",
       "<style scoped>\n",
       "    .dataframe tbody tr th:only-of-type {\n",
       "        vertical-align: middle;\n",
       "    }\n",
       "\n",
       "    .dataframe tbody tr th {\n",
       "        vertical-align: top;\n",
       "    }\n",
       "\n",
       "    .dataframe thead th {\n",
       "        text-align: right;\n",
       "    }\n",
       "</style>\n",
       "<table border=\"1\" class=\"dataframe\">\n",
       "  <thead>\n",
       "    <tr style=\"text-align: right;\">\n",
       "      <th></th>\n",
       "      <th>Sales_ID</th>\n",
       "      <th>year</th>\n",
       "      <th>selling_price</th>\n",
       "      <th>km_driven</th>\n",
       "      <th>mileage</th>\n",
       "      <th>engine</th>\n",
       "      <th>max_power</th>\n",
       "      <th>seats</th>\n",
       "      <th>Postal_code</th>\n",
       "    </tr>\n",
       "  </thead>\n",
       "  <tbody>\n",
       "    <tr>\n",
       "      <th>Sales_ID</th>\n",
       "      <td>1.000000</td>\n",
       "      <td>-0.001304</td>\n",
       "      <td>-0.011767</td>\n",
       "      <td>-0.000809</td>\n",
       "      <td>0.028627</td>\n",
       "      <td>-0.011279</td>\n",
       "      <td>-0.003717</td>\n",
       "      <td>-0.014154</td>\n",
       "      <td>-0.010781</td>\n",
       "    </tr>\n",
       "    <tr>\n",
       "      <th>year</th>\n",
       "      <td>-0.001304</td>\n",
       "      <td>1.000000</td>\n",
       "      <td>0.413139</td>\n",
       "      <td>-0.502279</td>\n",
       "      <td>0.328544</td>\n",
       "      <td>0.018263</td>\n",
       "      <td>0.226598</td>\n",
       "      <td>-0.007923</td>\n",
       "      <td>0.004923</td>\n",
       "    </tr>\n",
       "    <tr>\n",
       "      <th>selling_price</th>\n",
       "      <td>-0.011767</td>\n",
       "      <td>0.413139</td>\n",
       "      <td>1.000000</td>\n",
       "      <td>-0.291603</td>\n",
       "      <td>-0.127900</td>\n",
       "      <td>0.456573</td>\n",
       "      <td>0.749512</td>\n",
       "      <td>0.042065</td>\n",
       "      <td>0.008702</td>\n",
       "    </tr>\n",
       "    <tr>\n",
       "      <th>km_driven</th>\n",
       "      <td>-0.000809</td>\n",
       "      <td>-0.502279</td>\n",
       "      <td>-0.291603</td>\n",
       "      <td>1.000000</td>\n",
       "      <td>-0.147062</td>\n",
       "      <td>0.184414</td>\n",
       "      <td>-0.065224</td>\n",
       "      <td>0.205862</td>\n",
       "      <td>-0.008811</td>\n",
       "    </tr>\n",
       "    <tr>\n",
       "      <th>mileage</th>\n",
       "      <td>0.028627</td>\n",
       "      <td>0.328544</td>\n",
       "      <td>-0.127900</td>\n",
       "      <td>-0.147062</td>\n",
       "      <td>1.000000</td>\n",
       "      <td>-0.576408</td>\n",
       "      <td>-0.374621</td>\n",
       "      <td>-0.451700</td>\n",
       "      <td>-0.009599</td>\n",
       "    </tr>\n",
       "    <tr>\n",
       "      <th>engine</th>\n",
       "      <td>-0.011279</td>\n",
       "      <td>0.018263</td>\n",
       "      <td>0.456573</td>\n",
       "      <td>0.184414</td>\n",
       "      <td>-0.576408</td>\n",
       "      <td>1.000000</td>\n",
       "      <td>0.703975</td>\n",
       "      <td>0.611103</td>\n",
       "      <td>0.004543</td>\n",
       "    </tr>\n",
       "    <tr>\n",
       "      <th>max_power</th>\n",
       "      <td>-0.003717</td>\n",
       "      <td>0.226598</td>\n",
       "      <td>0.749512</td>\n",
       "      <td>-0.065224</td>\n",
       "      <td>-0.374621</td>\n",
       "      <td>0.703975</td>\n",
       "      <td>1.000000</td>\n",
       "      <td>0.191999</td>\n",
       "      <td>0.007089</td>\n",
       "    </tr>\n",
       "    <tr>\n",
       "      <th>seats</th>\n",
       "      <td>-0.014154</td>\n",
       "      <td>-0.007923</td>\n",
       "      <td>0.042065</td>\n",
       "      <td>0.205862</td>\n",
       "      <td>-0.451700</td>\n",
       "      <td>0.611103</td>\n",
       "      <td>0.191999</td>\n",
       "      <td>1.000000</td>\n",
       "      <td>-0.004773</td>\n",
       "    </tr>\n",
       "    <tr>\n",
       "      <th>Postal_code</th>\n",
       "      <td>-0.010781</td>\n",
       "      <td>0.004923</td>\n",
       "      <td>0.008702</td>\n",
       "      <td>-0.008811</td>\n",
       "      <td>-0.009599</td>\n",
       "      <td>0.004543</td>\n",
       "      <td>0.007089</td>\n",
       "      <td>-0.004773</td>\n",
       "      <td>1.000000</td>\n",
       "    </tr>\n",
       "  </tbody>\n",
       "</table>\n",
       "</div>"
      ],
      "text/plain": [
       "               Sales_ID      year  selling_price  km_driven   mileage  \\\n",
       "Sales_ID       1.000000 -0.001304      -0.011767  -0.000809  0.028627   \n",
       "year          -0.001304  1.000000       0.413139  -0.502279  0.328544   \n",
       "selling_price -0.011767  0.413139       1.000000  -0.291603 -0.127900   \n",
       "km_driven     -0.000809 -0.502279      -0.291603   1.000000 -0.147062   \n",
       "mileage        0.028627  0.328544      -0.127900  -0.147062  1.000000   \n",
       "engine        -0.011279  0.018263       0.456573   0.184414 -0.576408   \n",
       "max_power     -0.003717  0.226598       0.749512  -0.065224 -0.374621   \n",
       "seats         -0.014154 -0.007923       0.042065   0.205862 -0.451700   \n",
       "Postal_code   -0.010781  0.004923       0.008702  -0.008811 -0.009599   \n",
       "\n",
       "                 engine  max_power     seats  Postal_code  \n",
       "Sales_ID      -0.011279  -0.003717 -0.014154    -0.010781  \n",
       "year           0.018263   0.226598 -0.007923     0.004923  \n",
       "selling_price  0.456573   0.749512  0.042065     0.008702  \n",
       "km_driven      0.184414  -0.065224  0.205862    -0.008811  \n",
       "mileage       -0.576408  -0.374621 -0.451700    -0.009599  \n",
       "engine         1.000000   0.703975  0.611103     0.004543  \n",
       "max_power      0.703975   1.000000  0.191999     0.007089  \n",
       "seats          0.611103   0.191999  1.000000    -0.004773  \n",
       "Postal_code    0.004543   0.007089 -0.004773     1.000000  "
      ]
     },
     "execution_count": 21,
     "metadata": {},
     "output_type": "execute_result"
    }
   ],
   "source": [
    "corr_data = corr(car_sales)\n",
    "corr_data"
   ]
  },
  {
   "cell_type": "markdown",
   "metadata": {},
   "source": [
    "#### T1.7: Come up with Insights and validate the hypothesis:                         (weightage: 3 marks)  (AE)\n",
    "\n",
    "(i) Is there a statistically significant difference in the average mileage of cars across different fuel types and transmission types?\n",
    "\n",
    "(ii) Is there a statistically significant difference in the selling prices of cars between individual and dealer sellers?\n",
    "\n",
    "(iii)Is there a relationship between the type of fuel and transmission in cars?"
   ]
  },
  {
   "cell_type": "markdown",
   "metadata": {},
   "source": [
    "#### (i) Is there a statistically significant difference in the average mileage of cars across different fuel types and transmission types?\n",
    "\n",
    "- If yes, set `result1` as \"There is a significant difference in the average mileage of cars across different fuel types and transmission types\"\n",
    "- If no, set `result1` as \"There is no significant difference in the average mileage of cars across different fuel types and transmission types\""
   ]
  },
  {
   "cell_type": "markdown",
   "metadata": {},
   "source": [
    "#### NOTE:\n",
    "Conduct an Analysis of Variance (ANOVA) test to determine if there is a significant difference in the average mileage of cars across different fuel types and transmission types.\n",
    "* Groups the data to create separate groups for each category.\n",
    "* Then perform the ANOVA test using the stats.f_oneway() function from the scipy.stats module.\n",
    "* Compare the obtained p-value with a significance level (alpha)\n",
    "* Based on the comparison, determine whether there is a significant difference in the average mileage of cars across different fuel types and transmission types."
   ]
  },
  {
   "cell_type": "code",
   "execution_count": 22,
   "metadata": {},
   "outputs": [],
   "source": [
    "import scipy.stats as stats\n",
    "def perform_anova(car_data):\n",
    "    result1 = None\n",
    "    # Code starts here\n",
    "    groups=car_data.groupby(['fuel','transmission'])['mileage'].apply(list)\n",
    "\n",
    "    # Perform ANOVA\n",
    "    f_val,p_val=stats.f_oneway(*groups)\n",
    "    \n",
    "    # Compare p-value with significance level (e.g., 0.05)\n",
    "    if p_val<0.05:\n",
    "        result1='There is a significant difference in the average mileage of cars across different fuel types and transmission types'\n",
    "    else:\n",
    "        result1='There is no significant difference in the average mileage of cars across different fuel types and transmission types'\n",
    "    # Code ends here\n",
    "    \n",
    "    # Return ANOVA results\n",
    "    return result1"
   ]
  },
  {
   "cell_type": "code",
   "execution_count": 23,
   "metadata": {},
   "outputs": [
    {
     "data": {
      "text/plain": [
       "'There is a significant difference in the average mileage of cars across different fuel types and transmission types'"
      ]
     },
     "execution_count": 23,
     "metadata": {},
     "output_type": "execute_result"
    }
   ],
   "source": [
    "# Call the function\n",
    "perform_anova(car_sales)"
   ]
  },
  {
   "cell_type": "markdown",
   "metadata": {},
   "source": [
    "#### (ii) Is there a statistically significant difference in the selling prices of cars between individual and dealer sellers?\n",
    "\n",
    "- If yes,set `result2` as \"There is a statistically significant difference in the selling prices of cars between individual and dealer sellers\"\n",
    "- If no, set `result2` as \"There is no statistically significant difference in the selling prices of cars between individual and dealer sellers\""
   ]
  },
  {
   "cell_type": "markdown",
   "metadata": {},
   "source": [
    "#### Note:\n",
    "Conducts an independent two-sample t-test to determine if there is a statistically significant difference in the selling prices of cars between individual and dealer sellers.\n",
    "* Filter the data based on the 'seller_type' column to separate the selling prices of cars sold by individual sellers and dealer sellers.\n",
    "* Perform the independent two-sample t-test using the ttest_ind() function from the scipy.stats module. \n",
    "* Compare the obtained p-value with a significance level (alpha)\n",
    "* Based on the comparison,determines whether there is a statistically significant difference in the selling prices of cars between individual and dealer sellers."
   ]
  },
  {
   "cell_type": "code",
   "execution_count": 24,
   "metadata": {},
   "outputs": [],
   "source": [
    "from scipy.stats import ttest_ind\n",
    "def seller_type_influence_test(car_sales):\n",
    "    result2 = None\n",
    "    # Code starts here\n",
    "    # Filter data based on seller type\n",
    "    indivual_seller=car_sales[car_sales['seller_type']=='Individual']['selling_price']\n",
    "    dealer_seller=car_sales[car_sales['seller_type']=='Dealer']['selling_price']\n",
    "    # Perform independent t-test\n",
    "    t_stat,p_val=ttest_ind(indivual_seller,dealer_seller)\n",
    "    # Set significance level\n",
    "    alpha=0.05\n",
    "    # Interpret the results\n",
    "    if p_val<alpha:\n",
    "        result2='There is a statistically significant difference in the selling prices of cars between individual and dealer sellers'\n",
    "    else:\n",
    "        result2='There is no statistically significant difference in the selling prices of cars between individual and dealer sellers'\n",
    "    # Code ends here    \n",
    "    return result2\n"
   ]
  },
  {
   "cell_type": "code",
   "execution_count": 25,
   "metadata": {},
   "outputs": [
    {
     "data": {
      "text/plain": [
       "'There is a statistically significant difference in the selling prices of cars between individual and dealer sellers'"
      ]
     },
     "execution_count": 25,
     "metadata": {},
     "output_type": "execute_result"
    }
   ],
   "source": [
    "seller_type_influence_test(car_sales)"
   ]
  },
  {
   "cell_type": "markdown",
   "metadata": {},
   "source": [
    "#### (iii) Is there a relationship between the type of fuel and transmission in cars?\n",
    "\n",
    "- If yes,set `result3` as \"There is a statistically significant relationship between the type of fuel and transmission in cars\"\n",
    "- If no, set `result3` as \"There is no statistically significant relationship between the type of fuel and transmission in cars\""
   ]
  },
  {
   "cell_type": "markdown",
   "metadata": {},
   "source": [
    "#### NOTE:\n",
    "Conduct a chi-square test of independence to determine if there is a statistically significant relationship between the type of fuel and transmission in cars.\n",
    "* Creates a contingency table of observed frequencies using the pd.crosstab() function. \n",
    "* Perform the chi-square test of independence using the stats.chi2_contingency() function from the scipy.stats module. \n",
    "* Compare the obtained p-value with a significance level (alpha)\n",
    "* Based on the comparison, determine whether there is a statistically significant relationship between the type of fuel and transmission in cars."
   ]
  },
  {
   "cell_type": "code",
   "execution_count": 26,
   "metadata": {},
   "outputs": [],
   "source": [
    "from scipy.stats import chi2_contingency\n",
    "def chi_square_test(car_data):\n",
    "    result3 = None\n",
    "    # Create a contingency table of observed frequencies\n",
    "    contigency_table=pd.crosstab(car_data['fuel'],car_data['transmission'])\n",
    "    \n",
    "    # Perform Chi-square test\n",
    "    chi2_stat,p_val,dof,expected=chi2_contingency(contigency_table)\n",
    "    \n",
    "    # Compare p-value with significance level (e.g., 0.05)\n",
    "    if p_val<0.05:\n",
    "        result3='There is a statistically significant relationship between the type of fuel and transmission in cars'\n",
    "    else:\n",
    "        result_3='There is no statistically significant relationship between the type of fuel and transmission in cars'\n",
    "    # Return Chi-square statistic, p-value, and result\n",
    "    return result3"
   ]
  },
  {
   "cell_type": "code",
   "execution_count": 27,
   "metadata": {},
   "outputs": [
    {
     "data": {
      "text/plain": [
       "'There is a statistically significant relationship between the type of fuel and transmission in cars'"
      ]
     },
     "execution_count": 27,
     "metadata": {},
     "output_type": "execute_result"
    }
   ],
   "source": [
    "# Call the function\n",
    "chi_square_test(car_sales)"
   ]
  },
  {
   "cell_type": "markdown",
   "metadata": {},
   "source": [
    "#### T1.8: Data Transformation:  remove the given variables for model building process (\"name\",\"Postal_code\",\"Sales_ID\"). Apply normalization technique (standard scaler). (weightage - 2 marks)        (AE)      "
   ]
  },
  {
   "cell_type": "markdown",
   "metadata": {},
   "source": [
    "#### NOTE:\n",
    "Drop the varaiables \"name\",\"Postal_code\",\"Sales_ID\" from the dataframe using the drop() function. "
   ]
  },
  {
   "cell_type": "code",
   "execution_count": 28,
   "metadata": {},
   "outputs": [],
   "source": [
    "# drop the given variables\n",
    "def drop_var1(data):\n",
    "    # Code starts here\n",
    "    data.drop(columns=['name','Sales_ID','Postal_code'],inplace=True)\n",
    "    \n",
    "    # Code ends here\n",
    "    return data"
   ]
  },
  {
   "cell_type": "code",
   "execution_count": 29,
   "metadata": {},
   "outputs": [],
   "source": [
    "car_sales = drop_var1(car_sales)"
   ]
  },
  {
   "cell_type": "markdown",
   "metadata": {},
   "source": [
    "#### T1.9: Handling categorical features: Apply encoding technique to convert categorical variable into numerical. Use try and except blocks.  (weightage - 2 marks)    (AE)"
   ]
  },
  {
   "cell_type": "markdown",
   "metadata": {},
   "source": [
    "#### NOTE:\n",
    "scikit-learn expects all features to be numeric. So how do we include a categorical feature in our model?\n",
    "Transform city variable to 4 categories such as `North_city, South_city, East_city and West_city` according to the below given list."
   ]
  },
  {
   "cell_type": "code",
   "execution_count": 30,
   "metadata": {},
   "outputs": [],
   "source": [
    "# Define regions\n",
    "def city_region(sales_data):\n",
    "    north_cities = ['Dehradun','Mumbai','Jaipur','Indore','Pune','Aurangabad', 'Delhi','Ludhiana', 'kanpur', 'Gangtok', 'Noida']\n",
    "    south_cities = ['Chennai','Mysore', 'Bangalore', 'Nellore', 'Coimbatore','Mangalore','Hyderabad','Vellore','Thrissur']\n",
    "    east_cities = ['Ranchi', 'Kolkata', 'Jamshedpur', 'Patna', 'Bhubaneshwar']\n",
    "    west_cities = ['Ahmedabad','Kochi','Vadodara', 'Surat']\n",
    "\n",
    "    # Transform the City variable to 4 categories\n",
    "    def cat_city(city):\n",
    "        try:\n",
    "            if city in north_cities:\n",
    "                return\"North_city\"\n",
    "            if city in south_cities:\n",
    "                return\"South_city\"\n",
    "            if city in east_cities:\n",
    "                return\"East_city\"\n",
    "            if city in west_cities:\n",
    "                return\"West_city\"\n",
    "        except:\n",
    "            return 'unknown'\n",
    "    sales_data['City_region']=sales_data['City'].apply(cat_city)\n",
    "    # Print the updated DataFrame\n",
    "    return sales_data"
   ]
  },
  {
   "cell_type": "code",
   "execution_count": 31,
   "metadata": {},
   "outputs": [
    {
     "data": {
      "text/html": [
       "<div>\n",
       "<style scoped>\n",
       "    .dataframe tbody tr th:only-of-type {\n",
       "        vertical-align: middle;\n",
       "    }\n",
       "\n",
       "    .dataframe tbody tr th {\n",
       "        vertical-align: top;\n",
       "    }\n",
       "\n",
       "    .dataframe thead th {\n",
       "        text-align: right;\n",
       "    }\n",
       "</style>\n",
       "<table border=\"1\" class=\"dataframe\">\n",
       "  <thead>\n",
       "    <tr style=\"text-align: right;\">\n",
       "      <th></th>\n",
       "      <th>year</th>\n",
       "      <th>selling_price</th>\n",
       "      <th>km_driven</th>\n",
       "      <th>fuel</th>\n",
       "      <th>seller_type</th>\n",
       "      <th>transmission</th>\n",
       "      <th>owner</th>\n",
       "      <th>mileage</th>\n",
       "      <th>engine</th>\n",
       "      <th>max_power</th>\n",
       "      <th>seats</th>\n",
       "      <th>City</th>\n",
       "      <th>Sales_status</th>\n",
       "      <th>City_region</th>\n",
       "    </tr>\n",
       "  </thead>\n",
       "  <tbody>\n",
       "    <tr>\n",
       "      <th>0</th>\n",
       "      <td>2014</td>\n",
       "      <td>450000</td>\n",
       "      <td>145500.0</td>\n",
       "      <td>Diesel</td>\n",
       "      <td>Individual</td>\n",
       "      <td>Manual</td>\n",
       "      <td>First Owner</td>\n",
       "      <td>23.40</td>\n",
       "      <td>1248.0</td>\n",
       "      <td>74.00</td>\n",
       "      <td>5</td>\n",
       "      <td>Mumbai</td>\n",
       "      <td>Y</td>\n",
       "      <td>North_city</td>\n",
       "    </tr>\n",
       "    <tr>\n",
       "      <th>1</th>\n",
       "      <td>2014</td>\n",
       "      <td>370000</td>\n",
       "      <td>120000.0</td>\n",
       "      <td>Diesel</td>\n",
       "      <td>Individual</td>\n",
       "      <td>Manual</td>\n",
       "      <td>Second Owner</td>\n",
       "      <td>21.14</td>\n",
       "      <td>1498.0</td>\n",
       "      <td>103.52</td>\n",
       "      <td>5</td>\n",
       "      <td>Ranchi</td>\n",
       "      <td>Y</td>\n",
       "      <td>East_city</td>\n",
       "    </tr>\n",
       "    <tr>\n",
       "      <th>2</th>\n",
       "      <td>2006</td>\n",
       "      <td>158000</td>\n",
       "      <td>140000.0</td>\n",
       "      <td>Petrol</td>\n",
       "      <td>Individual</td>\n",
       "      <td>Manual</td>\n",
       "      <td>Third Owner</td>\n",
       "      <td>17.70</td>\n",
       "      <td>1497.0</td>\n",
       "      <td>78.00</td>\n",
       "      <td>5</td>\n",
       "      <td>Noida</td>\n",
       "      <td>Y</td>\n",
       "      <td>North_city</td>\n",
       "    </tr>\n",
       "    <tr>\n",
       "      <th>3</th>\n",
       "      <td>2010</td>\n",
       "      <td>225000</td>\n",
       "      <td>127000.0</td>\n",
       "      <td>Diesel</td>\n",
       "      <td>Individual</td>\n",
       "      <td>Manual</td>\n",
       "      <td>First Owner</td>\n",
       "      <td>23.00</td>\n",
       "      <td>1396.0</td>\n",
       "      <td>90.00</td>\n",
       "      <td>5</td>\n",
       "      <td>Dehradun</td>\n",
       "      <td>Y</td>\n",
       "      <td>North_city</td>\n",
       "    </tr>\n",
       "    <tr>\n",
       "      <th>4</th>\n",
       "      <td>2007</td>\n",
       "      <td>130000</td>\n",
       "      <td>120000.0</td>\n",
       "      <td>Petrol</td>\n",
       "      <td>Individual</td>\n",
       "      <td>Manual</td>\n",
       "      <td>First Owner</td>\n",
       "      <td>16.10</td>\n",
       "      <td>1298.0</td>\n",
       "      <td>88.20</td>\n",
       "      <td>5</td>\n",
       "      <td>Chennai</td>\n",
       "      <td>Y</td>\n",
       "      <td>South_city</td>\n",
       "    </tr>\n",
       "    <tr>\n",
       "      <th>...</th>\n",
       "      <td>...</td>\n",
       "      <td>...</td>\n",
       "      <td>...</td>\n",
       "      <td>...</td>\n",
       "      <td>...</td>\n",
       "      <td>...</td>\n",
       "      <td>...</td>\n",
       "      <td>...</td>\n",
       "      <td>...</td>\n",
       "      <td>...</td>\n",
       "      <td>...</td>\n",
       "      <td>...</td>\n",
       "      <td>...</td>\n",
       "      <td>...</td>\n",
       "    </tr>\n",
       "    <tr>\n",
       "      <th>7901</th>\n",
       "      <td>2013</td>\n",
       "      <td>320000</td>\n",
       "      <td>110000.0</td>\n",
       "      <td>Petrol</td>\n",
       "      <td>Individual</td>\n",
       "      <td>Manual</td>\n",
       "      <td>First Owner</td>\n",
       "      <td>18.50</td>\n",
       "      <td>1197.0</td>\n",
       "      <td>82.85</td>\n",
       "      <td>5</td>\n",
       "      <td>Indore</td>\n",
       "      <td>N</td>\n",
       "      <td>North_city</td>\n",
       "    </tr>\n",
       "    <tr>\n",
       "      <th>7902</th>\n",
       "      <td>2007</td>\n",
       "      <td>135000</td>\n",
       "      <td>119000.0</td>\n",
       "      <td>Diesel</td>\n",
       "      <td>Individual</td>\n",
       "      <td>Manual</td>\n",
       "      <td>Third Owner</td>\n",
       "      <td>16.80</td>\n",
       "      <td>1493.0</td>\n",
       "      <td>110.00</td>\n",
       "      <td>5</td>\n",
       "      <td>Dehradun</td>\n",
       "      <td>N</td>\n",
       "      <td>North_city</td>\n",
       "    </tr>\n",
       "    <tr>\n",
       "      <th>7903</th>\n",
       "      <td>2009</td>\n",
       "      <td>382000</td>\n",
       "      <td>120000.0</td>\n",
       "      <td>Diesel</td>\n",
       "      <td>Individual</td>\n",
       "      <td>Manual</td>\n",
       "      <td>First Owner</td>\n",
       "      <td>19.30</td>\n",
       "      <td>1248.0</td>\n",
       "      <td>73.90</td>\n",
       "      <td>5</td>\n",
       "      <td>Kolkata</td>\n",
       "      <td>N</td>\n",
       "      <td>East_city</td>\n",
       "    </tr>\n",
       "    <tr>\n",
       "      <th>7904</th>\n",
       "      <td>2013</td>\n",
       "      <td>290000</td>\n",
       "      <td>25000.0</td>\n",
       "      <td>Diesel</td>\n",
       "      <td>Individual</td>\n",
       "      <td>Manual</td>\n",
       "      <td>First Owner</td>\n",
       "      <td>23.57</td>\n",
       "      <td>1396.0</td>\n",
       "      <td>70.00</td>\n",
       "      <td>5</td>\n",
       "      <td>Vellore</td>\n",
       "      <td>N</td>\n",
       "      <td>South_city</td>\n",
       "    </tr>\n",
       "    <tr>\n",
       "      <th>7905</th>\n",
       "      <td>2013</td>\n",
       "      <td>290000</td>\n",
       "      <td>25000.0</td>\n",
       "      <td>Diesel</td>\n",
       "      <td>Individual</td>\n",
       "      <td>Manual</td>\n",
       "      <td>First Owner</td>\n",
       "      <td>23.57</td>\n",
       "      <td>1396.0</td>\n",
       "      <td>70.00</td>\n",
       "      <td>5</td>\n",
       "      <td>Dehradun</td>\n",
       "      <td>N</td>\n",
       "      <td>North_city</td>\n",
       "    </tr>\n",
       "  </tbody>\n",
       "</table>\n",
       "<p>7906 rows × 14 columns</p>\n",
       "</div>"
      ],
      "text/plain": [
       "      year  selling_price  km_driven    fuel seller_type transmission  \\\n",
       "0     2014         450000   145500.0  Diesel  Individual       Manual   \n",
       "1     2014         370000   120000.0  Diesel  Individual       Manual   \n",
       "2     2006         158000   140000.0  Petrol  Individual       Manual   \n",
       "3     2010         225000   127000.0  Diesel  Individual       Manual   \n",
       "4     2007         130000   120000.0  Petrol  Individual       Manual   \n",
       "...    ...            ...        ...     ...         ...          ...   \n",
       "7901  2013         320000   110000.0  Petrol  Individual       Manual   \n",
       "7902  2007         135000   119000.0  Diesel  Individual       Manual   \n",
       "7903  2009         382000   120000.0  Diesel  Individual       Manual   \n",
       "7904  2013         290000    25000.0  Diesel  Individual       Manual   \n",
       "7905  2013         290000    25000.0  Diesel  Individual       Manual   \n",
       "\n",
       "             owner  mileage  engine  max_power  seats      City Sales_status  \\\n",
       "0      First Owner    23.40  1248.0      74.00      5    Mumbai            Y   \n",
       "1     Second Owner    21.14  1498.0     103.52      5    Ranchi            Y   \n",
       "2      Third Owner    17.70  1497.0      78.00      5     Noida            Y   \n",
       "3      First Owner    23.00  1396.0      90.00      5  Dehradun            Y   \n",
       "4      First Owner    16.10  1298.0      88.20      5   Chennai            Y   \n",
       "...            ...      ...     ...        ...    ...       ...          ...   \n",
       "7901   First Owner    18.50  1197.0      82.85      5    Indore            N   \n",
       "7902   Third Owner    16.80  1493.0     110.00      5  Dehradun            N   \n",
       "7903   First Owner    19.30  1248.0      73.90      5   Kolkata            N   \n",
       "7904   First Owner    23.57  1396.0      70.00      5   Vellore            N   \n",
       "7905   First Owner    23.57  1396.0      70.00      5  Dehradun            N   \n",
       "\n",
       "     City_region  \n",
       "0     North_city  \n",
       "1      East_city  \n",
       "2     North_city  \n",
       "3     North_city  \n",
       "4     South_city  \n",
       "...          ...  \n",
       "7901  North_city  \n",
       "7902  North_city  \n",
       "7903   East_city  \n",
       "7904  South_city  \n",
       "7905  North_city  \n",
       "\n",
       "[7906 rows x 14 columns]"
      ]
     },
     "execution_count": 31,
     "metadata": {},
     "output_type": "execute_result"
    }
   ],
   "source": [
    "#apply city_region() in the original data\n",
    "car_sales=city_region(car_sales)\n",
    "car_sales"
   ]
  },
  {
   "cell_type": "markdown",
   "metadata": {},
   "source": [
    "- drop the City variable"
   ]
  },
  {
   "cell_type": "code",
   "execution_count": 32,
   "metadata": {},
   "outputs": [],
   "source": [
    "def drop_var2(data):\n",
    "    data.drop(['City'],axis=1, inplace=True)\n",
    "    return data"
   ]
  },
  {
   "cell_type": "code",
   "execution_count": 33,
   "metadata": {},
   "outputs": [],
   "source": [
    "car_sales = drop_var2(car_sales)"
   ]
  },
  {
   "cell_type": "markdown",
   "metadata": {},
   "source": [
    "#### Encoding technique: convert other categorical variable into factor variable (0,1,2.. categories)"
   ]
  },
  {
   "cell_type": "markdown",
   "metadata": {},
   "source": [
    "#### NOTE:\n",
    "Encode categorical columns in a DataFrame using the `LabelEncoder` from scikit-learn."
   ]
  },
  {
   "cell_type": "code",
   "execution_count": 34,
   "metadata": {},
   "outputs": [],
   "source": [
    "from sklearn.preprocessing import LabelEncoder\n",
    "def encode_categorical_columns(df):\n",
    "    label_encoders={}\n",
    "    cat_columns=df.select_dtypes(include=['object']).columns\n",
    "    \n",
    "    for column in cat_columns:\n",
    "        le=LabelEncoder()\n",
    "        df[column]=le.fit_transform(df[column])\n",
    "        label_encoders[column]=le\n",
    "    \n",
    "    return df"
   ]
  },
  {
   "cell_type": "code",
   "execution_count": 35,
   "metadata": {},
   "outputs": [],
   "source": [
    "# apply it in the original data\n",
    "car_sales=encode_categorical_columns(car_sales)"
   ]
  },
  {
   "cell_type": "code",
   "execution_count": 36,
   "metadata": {},
   "outputs": [
    {
     "data": {
      "text/html": [
       "<div>\n",
       "<style scoped>\n",
       "    .dataframe tbody tr th:only-of-type {\n",
       "        vertical-align: middle;\n",
       "    }\n",
       "\n",
       "    .dataframe tbody tr th {\n",
       "        vertical-align: top;\n",
       "    }\n",
       "\n",
       "    .dataframe thead th {\n",
       "        text-align: right;\n",
       "    }\n",
       "</style>\n",
       "<table border=\"1\" class=\"dataframe\">\n",
       "  <thead>\n",
       "    <tr style=\"text-align: right;\">\n",
       "      <th></th>\n",
       "      <th>year</th>\n",
       "      <th>selling_price</th>\n",
       "      <th>km_driven</th>\n",
       "      <th>fuel</th>\n",
       "      <th>seller_type</th>\n",
       "      <th>transmission</th>\n",
       "      <th>owner</th>\n",
       "      <th>mileage</th>\n",
       "      <th>engine</th>\n",
       "      <th>max_power</th>\n",
       "      <th>seats</th>\n",
       "      <th>Sales_status</th>\n",
       "      <th>City_region</th>\n",
       "    </tr>\n",
       "  </thead>\n",
       "  <tbody>\n",
       "    <tr>\n",
       "      <th>0</th>\n",
       "      <td>2014</td>\n",
       "      <td>450000</td>\n",
       "      <td>145500.0</td>\n",
       "      <td>1</td>\n",
       "      <td>1</td>\n",
       "      <td>1</td>\n",
       "      <td>0</td>\n",
       "      <td>23.4</td>\n",
       "      <td>1248.0</td>\n",
       "      <td>74.0</td>\n",
       "      <td>5</td>\n",
       "      <td>1</td>\n",
       "      <td>1</td>\n",
       "    </tr>\n",
       "  </tbody>\n",
       "</table>\n",
       "</div>"
      ],
      "text/plain": [
       "   year  selling_price  km_driven  fuel  seller_type  transmission  owner  \\\n",
       "0  2014         450000   145500.0     1            1             1      0   \n",
       "\n",
       "   mileage  engine  max_power  seats  Sales_status  City_region  \n",
       "0     23.4  1248.0       74.0      5             1            1  "
      ]
     },
     "execution_count": 36,
     "metadata": {},
     "output_type": "execute_result"
    }
   ],
   "source": [
    "# convert City_region variable to numeric datatype\n",
    "car_sales.head(1)"
   ]
  },
  {
   "cell_type": "markdown",
   "metadata": {},
   "source": [
    "#### T1.10: Save the cleaned dataset (cleaned_car_sales.xlsx file) by setting the index=False in your GitHub repository for model building process. (This task is for maintaining the version control of datasets) (weightage - 1 mark)      (ME)        "
   ]
  },
  {
   "cell_type": "markdown",
   "metadata": {},
   "source": [
    "#### Refer to the Github document from Lumen to create the repository and steps to commit \n",
    "#### Add your Github repository link below "
   ]
  },
  {
   "cell_type": "code",
   "execution_count": 37,
   "metadata": {},
   "outputs": [],
   "source": [
    "#git@github.com:Nitinchoudhary11/sandbox_ML_1_car_sales.git"
   ]
  },
  {
   "cell_type": "markdown",
   "metadata": {},
   "source": [
    "#### NOTE:\n",
    "Save the DataFrame car_sales to an Excel file named __\"cleaned_car_sales.xlsx\"__ in the `Project` folder on the desktop without including the index column. "
   ]
  },
  {
   "cell_type": "code",
   "execution_count": 38,
   "metadata": {},
   "outputs": [],
   "source": [
    "# Save the cleaned data set\n",
    "#output_file='cleaned_car_sales.xlsx'\n",
    "#car_sales.to_excel(output_file,index=False)"
   ]
  },
  {
   "cell_type": "code",
   "execution_count": 39,
   "metadata": {},
   "outputs": [],
   "source": [
    "# save it in github repository\n"
   ]
  },
  {
   "cell_type": "markdown",
   "metadata": {},
   "source": [
    "### Task 2: Build Multiple Linear regression model for predicting the price of a used car. (weightage - 30 marks)               "
   ]
  },
  {
   "cell_type": "markdown",
   "metadata": {},
   "source": [
    "#### T2.1: Load the cleaned dataset and divide it into predictor and target values (X & y) (weightage – 2 marks) (AE)"
   ]
  },
  {
   "cell_type": "code",
   "execution_count": 40,
   "metadata": {},
   "outputs": [],
   "source": [
    "# load the cleaned data\n",
    "def load_the_cleaned_dataset(dataset_location):\n",
    "        cleaned_car_sales = None\n",
    "        # Code starts here\n",
    "        try:\n",
    "            return pd.read_excel(\"cleaned_car_sales.xlsx\")\n",
    "        except:\n",
    "            return \"file not found\"\n",
    "        \n",
    "        # Code ends here\n",
    "        return cleaned_car_sales"
   ]
  },
  {
   "cell_type": "code",
   "execution_count": 41,
   "metadata": {},
   "outputs": [],
   "source": [
    "dataset_location = 'cleaned_car_sales.xlsx'\n",
    "cleaned_car_sales=load_the_cleaned_dataset(dataset_location)    "
   ]
  },
  {
   "cell_type": "markdown",
   "metadata": {},
   "source": [
    "- Separate independent features and target variable"
   ]
  },
  {
   "cell_type": "code",
   "execution_count": 42,
   "metadata": {},
   "outputs": [
    {
     "data": {
      "text/html": [
       "<div>\n",
       "<style scoped>\n",
       "    .dataframe tbody tr th:only-of-type {\n",
       "        vertical-align: middle;\n",
       "    }\n",
       "\n",
       "    .dataframe tbody tr th {\n",
       "        vertical-align: top;\n",
       "    }\n",
       "\n",
       "    .dataframe thead th {\n",
       "        text-align: right;\n",
       "    }\n",
       "</style>\n",
       "<table border=\"1\" class=\"dataframe\">\n",
       "  <thead>\n",
       "    <tr style=\"text-align: right;\">\n",
       "      <th></th>\n",
       "      <th>year</th>\n",
       "      <th>selling_price</th>\n",
       "      <th>km_driven</th>\n",
       "      <th>fuel</th>\n",
       "      <th>seller_type</th>\n",
       "      <th>transmission</th>\n",
       "      <th>owner</th>\n",
       "      <th>mileage</th>\n",
       "      <th>engine</th>\n",
       "      <th>max_power</th>\n",
       "      <th>seats</th>\n",
       "      <th>Sales_status</th>\n",
       "      <th>City_region</th>\n",
       "    </tr>\n",
       "  </thead>\n",
       "  <tbody>\n",
       "    <tr>\n",
       "      <th>0</th>\n",
       "      <td>2014</td>\n",
       "      <td>450000</td>\n",
       "      <td>145500</td>\n",
       "      <td>1</td>\n",
       "      <td>1</td>\n",
       "      <td>1</td>\n",
       "      <td>0</td>\n",
       "      <td>23.4</td>\n",
       "      <td>1248</td>\n",
       "      <td>74.0</td>\n",
       "      <td>5</td>\n",
       "      <td>1</td>\n",
       "      <td>1</td>\n",
       "    </tr>\n",
       "  </tbody>\n",
       "</table>\n",
       "</div>"
      ],
      "text/plain": [
       "   year  selling_price  km_driven  fuel  seller_type  transmission  owner  \\\n",
       "0  2014         450000     145500     1            1             1      0   \n",
       "\n",
       "   mileage  engine  max_power  seats  Sales_status  City_region  \n",
       "0     23.4    1248       74.0      5             1            1  "
      ]
     },
     "execution_count": 42,
     "metadata": {},
     "output_type": "execute_result"
    }
   ],
   "source": [
    "cleaned_car_sales.head(1)"
   ]
  },
  {
   "cell_type": "code",
   "execution_count": 43,
   "metadata": {},
   "outputs": [],
   "source": [
    "# Separate independent features and target variable\n",
    "def separate_data_and_target(df):\n",
    "    #X, y = np.ndarray([]),np.ndarray([])\n",
    "    #code starts here\n",
    "    X=df.drop('selling_price',axis=1).values\n",
    "    y=df['selling_price'].values\n",
    "\n",
    "    #code ends here\n",
    "    return X,y"
   ]
  },
  {
   "cell_type": "code",
   "execution_count": 44,
   "metadata": {},
   "outputs": [],
   "source": [
    "# dependent : X, independent : y\n",
    "X, y = separate_data_and_target(cleaned_car_sales)"
   ]
  },
  {
   "cell_type": "code",
   "execution_count": 45,
   "metadata": {},
   "outputs": [
    {
     "name": "stdout",
     "output_type": "stream",
     "text": [
      "[[2.0140e+03 1.4550e+05 1.0000e+00 1.0000e+00 1.0000e+00 0.0000e+00\n",
      "  2.3400e+01 1.2480e+03 7.4000e+01 5.0000e+00 1.0000e+00 1.0000e+00]\n",
      " [2.0140e+03 1.2000e+05 1.0000e+00 1.0000e+00 1.0000e+00 1.0000e+00\n",
      "  2.1140e+01 1.4980e+03 1.0352e+02 5.0000e+00 1.0000e+00 0.0000e+00]\n",
      " [2.0060e+03 1.4000e+05 2.0000e+00 1.0000e+00 1.0000e+00 2.0000e+00\n",
      "  1.7700e+01 1.4970e+03 7.8000e+01 5.0000e+00 1.0000e+00 1.0000e+00]\n",
      " [2.0100e+03 1.2700e+05 1.0000e+00 1.0000e+00 1.0000e+00 0.0000e+00\n",
      "  2.3000e+01 1.3960e+03 9.0000e+01 5.0000e+00 1.0000e+00 1.0000e+00]\n",
      " [2.0070e+03 1.2000e+05 2.0000e+00 1.0000e+00 1.0000e+00 0.0000e+00\n",
      "  1.6100e+01 1.2980e+03 8.8200e+01 5.0000e+00 1.0000e+00 2.0000e+00]]\n"
     ]
    }
   ],
   "source": [
    " print(X[:5])"
   ]
  },
  {
   "cell_type": "code",
   "execution_count": 46,
   "metadata": {},
   "outputs": [
    {
     "name": "stdout",
     "output_type": "stream",
     "text": [
      "[450000 370000 158000 225000 130000]\n"
     ]
    }
   ],
   "source": [
    " print(y[:5])"
   ]
  },
  {
   "cell_type": "markdown",
   "metadata": {},
   "source": [
    "#### T2.2: Split the dataset into train and test in the ratio of 80:20 and apply the scaling technique -RobustScaler. (weightage – 4 marks) (AE)"
   ]
  },
  {
   "cell_type": "markdown",
   "metadata": {},
   "source": [
    "#### NOTE:\n",
    "\n",
    "Split the dataset into training and testing. Separate the dependent (data) and independent (target) columns/fields of the dataset and apply the scaling technique -RobustScaler.The requirement is to build a model that performs regression task."
   ]
  },
  {
   "cell_type": "code",
   "execution_count": 47,
   "metadata": {},
   "outputs": [],
   "source": [
    "from sklearn.model_selection import train_test_split\n",
    "from sklearn.preprocessing import RobustScaler\n",
    "\n",
    "def split_into_train_and_test_normalize_features(X,y):\n",
    "    #X_train, X_test,y_train,y_test = np.ndarray([]),np.ndarray([]),np.ndarray([]),np.ndarray([])\n",
    "    # Splitting dataset to train and test sets 80% train and 20% test\n",
    "    X_train,X_test,y_train,y_test=train_test_split(X,y,test_size=0.2,random_state=42)\n",
    "\n",
    "        \n",
    "    #Normalizes selected features in a dataset \n",
    "    # Instantiate the RobustScaler\n",
    "    scaler=RobustScaler()\n",
    "\n",
    "    # Fit the scaler to the training data and transform it\n",
    "    X_train=scaler.fit_transform(X_train)\n",
    "\n",
    "    # Transform the testing data using the same scaler\n",
    "    X_test=scaler.transform(X_test)\n",
    "   \n",
    "    return X_train, X_test,y_train,y_test"
   ]
  },
  {
   "cell_type": "code",
   "execution_count": 48,
   "metadata": {},
   "outputs": [],
   "source": [
    "# split into training and testing \n",
    "X_train, X_test,y_train,y_test=split_into_train_and_test_normalize_features(X,y)"
   ]
  },
  {
   "cell_type": "code",
   "execution_count": 49,
   "metadata": {},
   "outputs": [],
   "source": [
    "#print(X_train.shape)\n",
    "#print(X_test.shape)\n",
    "#print(y_train.shape)\n",
    "#print(y_test.shape)"
   ]
  },
  {
   "cell_type": "markdown",
   "metadata": {},
   "source": [
    "#### T2.3: Validate the assumptions of Linear regression model- Linearity, multicollinearity (weightage -6 marks)   (ME)"
   ]
  },
  {
   "cell_type": "markdown",
   "metadata": {},
   "source": [
    "#### NOTE:\n",
    "Use `pairplot`"
   ]
  },
  {
   "cell_type": "code",
   "execution_count": 50,
   "metadata": {
    "scrolled": true
   },
   "outputs": [
    {
     "data": {
      "image/png": "[encoded data removed]",
      "text/plain": [
       "<Figure size 3000x250 with 12 Axes>"
      ]
     },
     "metadata": {},
     "output_type": "display_data"
    }
   ],
   "source": [
    "#Linearity\n",
    "sns.pairplot(cleaned_car_sales,x_vars=cleaned_car_sales.drop(columns=['selling_price']).columns,y_vars='selling_price',kind='scatter',diag_kind=None)\n",
    "plt.show()"
   ]
  },
  {
   "cell_type": "markdown",
   "metadata": {},
   "source": [
    "##### Check the multicollinearity using VIF for all the variables in the model"
   ]
  },
  {
   "cell_type": "markdown",
   "metadata": {},
   "source": [
    "#### NOTE:\n",
    "* Splits the data into training and testing sets using the train_test_split function from scikit-learn. \n",
    "* Define the dependent variable (y1) and independent variables (X1) using the `dmatrices` function from the `patsy` module. \n",
    "* For each independent variable in X1, it calculates the VIF using the variance_inflation_factor function from the statsmodels.stats.outliers_influence module. VIF measures how much the variance of an estimated regression coefficient increases if your predictors are correlated.\n",
    "* Store the calculated VIF values along with the corresponding feature names in a DataFrame `vif` to display the VIF values for each feature."
   ]
  },
  {
   "cell_type": "code",
   "execution_count": 51,
   "metadata": {},
   "outputs": [],
   "source": [
    "from statsmodels.stats.outliers_influence import variance_inflation_factor\n",
    "from patsy import dmatrices\n",
    "\n",
    "def multicollinearity(data):   \n",
    "    train, test = train_test_split( data,test_size = 0.2,random_state = 1234 )\n",
    "    #defining the dependent and indepent variable using patsy\n",
    "    y1,x1=dmatrices('selling_price ~' + '+' .join(data.columns.difference(['selling_price'])),train,return_type='dataframe')\n",
    "   \n",
    "    # For each X, calculate VIF and save in dataframe\n",
    "    vif_data=pd.DataFrame()\n",
    "    vif_data['feature']=x1.columns\n",
    "    vif_data['VIF']=[variance_inflation_factor(x1.values,i) for i in range(x1.shape[1])]\n",
    "    \n",
    "    return vif_data"
   ]
  },
  {
   "cell_type": "code",
   "execution_count": 52,
   "metadata": {},
   "outputs": [
    {
     "data": {
      "text/html": [
       "<div>\n",
       "<style scoped>\n",
       "    .dataframe tbody tr th:only-of-type {\n",
       "        vertical-align: middle;\n",
       "    }\n",
       "\n",
       "    .dataframe tbody tr th {\n",
       "        vertical-align: top;\n",
       "    }\n",
       "\n",
       "    .dataframe thead th {\n",
       "        text-align: right;\n",
       "    }\n",
       "</style>\n",
       "<table border=\"1\" class=\"dataframe\">\n",
       "  <thead>\n",
       "    <tr style=\"text-align: right;\">\n",
       "      <th></th>\n",
       "      <th>feature</th>\n",
       "      <th>VIF</th>\n",
       "    </tr>\n",
       "  </thead>\n",
       "  <tbody>\n",
       "    <tr>\n",
       "      <th>0</th>\n",
       "      <td>Intercept</td>\n",
       "      <td>576106.069845</td>\n",
       "    </tr>\n",
       "    <tr>\n",
       "      <th>1</th>\n",
       "      <td>City_region</td>\n",
       "      <td>1.001812</td>\n",
       "    </tr>\n",
       "    <tr>\n",
       "      <th>2</th>\n",
       "      <td>Sales_status</td>\n",
       "      <td>1.004035</td>\n",
       "    </tr>\n",
       "    <tr>\n",
       "      <th>3</th>\n",
       "      <td>engine</td>\n",
       "      <td>5.134456</td>\n",
       "    </tr>\n",
       "    <tr>\n",
       "      <th>4</th>\n",
       "      <td>fuel</td>\n",
       "      <td>1.946932</td>\n",
       "    </tr>\n",
       "    <tr>\n",
       "      <th>5</th>\n",
       "      <td>km_driven</td>\n",
       "      <td>1.687635</td>\n",
       "    </tr>\n",
       "    <tr>\n",
       "      <th>6</th>\n",
       "      <td>max_power</td>\n",
       "      <td>3.121393</td>\n",
       "    </tr>\n",
       "    <tr>\n",
       "      <th>7</th>\n",
       "      <td>mileage</td>\n",
       "      <td>2.674405</td>\n",
       "    </tr>\n",
       "    <tr>\n",
       "      <th>8</th>\n",
       "      <td>owner</td>\n",
       "      <td>1.396819</td>\n",
       "    </tr>\n",
       "    <tr>\n",
       "      <th>9</th>\n",
       "      <td>seats</td>\n",
       "      <td>2.214622</td>\n",
       "    </tr>\n",
       "    <tr>\n",
       "      <th>10</th>\n",
       "      <td>seller_type</td>\n",
       "      <td>1.233042</td>\n",
       "    </tr>\n",
       "    <tr>\n",
       "      <th>11</th>\n",
       "      <td>transmission</td>\n",
       "      <td>1.659836</td>\n",
       "    </tr>\n",
       "    <tr>\n",
       "      <th>12</th>\n",
       "      <td>year</td>\n",
       "      <td>2.127790</td>\n",
       "    </tr>\n",
       "  </tbody>\n",
       "</table>\n",
       "</div>"
      ],
      "text/plain": [
       "         feature            VIF\n",
       "0      Intercept  576106.069845\n",
       "1    City_region       1.001812\n",
       "2   Sales_status       1.004035\n",
       "3         engine       5.134456\n",
       "4           fuel       1.946932\n",
       "5      km_driven       1.687635\n",
       "6      max_power       3.121393\n",
       "7        mileage       2.674405\n",
       "8          owner       1.396819\n",
       "9          seats       2.214622\n",
       "10   seller_type       1.233042\n",
       "11  transmission       1.659836\n",
       "12          year       2.127790"
      ]
     },
     "execution_count": 52,
     "metadata": {},
     "output_type": "execute_result"
    }
   ],
   "source": [
    " multicollinearity(cleaned_car_sales)"
   ]
  },
  {
   "cell_type": "markdown",
   "metadata": {},
   "source": [
    "#### T2.4: Build a multiple linear regression model on training data using OLS method and sklearn library . (weightage - 15 marks) (AE)"
   ]
  },
  {
   "cell_type": "markdown",
   "metadata": {},
   "source": [
    "#### NOTE:\n",
    "* Split the dataset into train and test in the ratio of 80:20.\n",
    "* Set the random_state to 1234\n",
    "* Build the OLS model using statsmodels formula API\n",
    "* The function `fit_the_model_ols` should return the OLS Model and the test data."
   ]
  },
  {
   "cell_type": "markdown",
   "metadata": {},
   "source": [
    "**Build a model using OLS**"
   ]
  },
  {
   "cell_type": "code",
   "execution_count": 53,
   "metadata": {},
   "outputs": [],
   "source": [
    "import statsmodels.formula.api as smf\n",
    "def fit_the_model_ols(data):    \n",
    "    ols_model = None\n",
    "    train, test = np.ndarray([]),np.ndarray([])\n",
    "    # Code starts here\n",
    "    train,test=train_test_split(data,test_size=0.2,random_state=1234)\n",
    "    \n",
    "    # Building the OLS model using statsmodels formula API\n",
    "    formula='selling_price ~' + ' + '.join(['Q(\"{}\")'.format(col) for col in data.columns if col !='selling-price'])\n",
    "    ols_model=smf.ols(formula=formula,data=train).fit()    \n",
    "    # Return the model and the test data    \n",
    "    return ols_model,test"
   ]
  },
  {
   "cell_type": "code",
   "execution_count": 54,
   "metadata": {},
   "outputs": [],
   "source": [
    "# Fit the model\n",
    "ols_model, test_data = fit_the_model_ols(cleaned_car_sales)"
   ]
  },
  {
   "cell_type": "code",
   "execution_count": 55,
   "metadata": {},
   "outputs": [
    {
     "name": "stdout",
     "output_type": "stream",
     "text": [
      "                            OLS Regression Results                            \n",
      "==============================================================================\n",
      "Dep. Variable:          selling_price   R-squared:                       1.000\n",
      "Model:                            OLS   Adj. R-squared:                  1.000\n",
      "Method:                 Least Squares   F-statistic:                 2.362e+31\n",
      "Date:                Mon, 03 Jun 2024   Prob (F-statistic):               0.00\n",
      "Time:                        18:50:52   Log-Likelihood:             1.1382e+05\n",
      "No. Observations:                6324   AIC:                        -2.276e+05\n",
      "Df Residuals:                    6310   BIC:                        -2.275e+05\n",
      "Df Model:                          13                                         \n",
      "Covariance Type:            nonrobust                                         \n",
      "======================================================================================\n",
      "                         coef    std err          t      P>|t|      [0.025      0.975]\n",
      "--------------------------------------------------------------------------------------\n",
      "Intercept          -1.013e-07   3.57e-08     -2.837      0.005   -1.71e-07   -3.13e-08\n",
      "Q(\"year\")           4.796e-11   1.78e-11      2.689      0.007     1.3e-11    8.29e-11\n",
      "Q(\"selling_price\")     1.0000   1.02e-16   9.84e+15      0.000       1.000       1.000\n",
      "Q(\"km_driven\")      1.332e-15   1.57e-15      0.847      0.397   -1.75e-15    4.42e-15\n",
      "Q(\"fuel\")           4.547e-11   1.26e-10      0.360      0.719   -2.02e-10    2.93e-10\n",
      "Q(\"seller_type\")    1.237e-10   1.47e-10      0.841      0.400   -1.65e-10    4.12e-10\n",
      "Q(\"transmission\")   2.092e-10   1.84e-10      1.140      0.254   -1.51e-10    5.69e-10\n",
      "Q(\"owner\")          1.569e-11   8.44e-11      0.186      0.853    -1.5e-10    1.81e-10\n",
      "Q(\"mileage\")        4.434e-12   1.89e-11      0.235      0.815   -3.26e-11    4.15e-11\n",
      "Q(\"engine\")         5.329e-15   2.08e-13      0.026      0.980   -4.02e-13    4.13e-13\n",
      "Q(\"max_power\")     -1.734e-12   2.64e-12     -0.656      0.512   -6.92e-12    3.45e-12\n",
      "Q(\"seats\")         -7.503e-12   7.12e-11     -0.105      0.916   -1.47e-10    1.32e-10\n",
      "Q(\"Sales_status\")   6.003e-11   1.07e-10      0.563      0.573   -1.49e-10    2.69e-10\n",
      "Q(\"City_region\")    1.251e-11   5.06e-11      0.247      0.805   -8.67e-11    1.12e-10\n",
      "==============================================================================\n",
      "Omnibus:                     4857.770   Durbin-Watson:                   0.111\n",
      "Prob(Omnibus):                  0.000   Jarque-Bera (JB):            97511.908\n",
      "Skew:                          -3.595   Prob(JB):                         0.00\n",
      "Kurtosis:                      20.843   Cond. No.                     8.01e+08\n",
      "==============================================================================\n",
      "\n",
      "Notes:\n",
      "[1] Standard Errors assume that the covariance matrix of the errors is correctly specified.\n",
      "[2] The condition number is large, 8.01e+08. This might indicate that there are\n",
      "strong multicollinearity or other numerical problems.\n"
     ]
    }
   ],
   "source": [
    "# Get the summary of the fitted model\n",
    "summary = ols_model.summary()\n",
    "# Print the summary\n",
    "print(summary)"
   ]
  },
  {
   "cell_type": "markdown",
   "metadata": {},
   "source": [
    "**Build a linear model using sklearn library** "
   ]
  },
  {
   "cell_type": "markdown",
   "metadata": {},
   "source": [
    "#### NOTE:\n",
    "* Initializes a linear regression model object.\n",
    "* Fit the model to the training data (X_train and y_train) using the fit() method of the linear regression object. "
   ]
  },
  {
   "cell_type": "code",
   "execution_count": 62,
   "metadata": {},
   "outputs": [],
   "source": [
    "from sklearn.linear_model import LinearRegression\n",
    "def fit_the_model_on_the_training_data(data,X_train:np.ndarray,y_train:np.ndarray):\n",
    "    regression = None\n",
    "    # Code starts here\n",
    "    regression=LinearRegression()\n",
    "    regression.fit(X_train,y_train)\n",
    "    # Code ends here \n",
    "    return regression"
   ]
  },
  {
   "cell_type": "code",
   "execution_count": 64,
   "metadata": {},
   "outputs": [],
   "source": [
    "# train the training data \n",
    "sklearn_model=fit_the_model_on_the_training_data(cleaned_car_sales,X_train,y_train)"
   ]
  },
  {
   "cell_type": "markdown",
   "metadata": {},
   "source": [
    "#### T2.5 Model Versioning:    (weightage -3 marks)  (ME)\n",
    "\n",
    "Save the initial version of a linear regression model OLS codebase named 'first_model' to a version \n",
    "control system GitHub using git commands for facilitating collaboration, tracking \n",
    "changes, and ensuring transparency in model development.\n",
    "\n",
    "Save the version of a linear regression model (sklearn) codebase named 'second_model' to a version control system GitHub using git commandsin git bash, if required facilitating collaboration, tracking changes, and ensuring transparency in model development."
   ]
  },
  {
   "cell_type": "markdown",
   "metadata": {},
   "source": [
    "#### Model Versioning: \n",
    "\n",
    "Save the above version of a linear regression model (sklearn) codebase named 'second_model' to a version control system GitHub using git commandsin git bash, if required facilitating collaboration, tracking changes, and ensuring transparency in model development."
   ]
  },
  {
   "cell_type": "markdown",
   "metadata": {},
   "source": [
    "### Task 3: Evaluate the performance of the model using the right evaluation metrics. (weightage - 35 marks)\n"
   ]
  },
  {
   "cell_type": "markdown",
   "metadata": {},
   "source": [
    "#### T3.1: Bring the initial version of a linear regression model 'first_model' and second version ‘second_model’ from a GitHub using git commands and evaluate the model (weightage - 2 marks) (ME)"
   ]
  },
  {
   "cell_type": "markdown",
   "metadata": {},
   "source": [
    "#### Model Versioning:\n",
    "\n",
    "Bring the initial version of a linear regression model 'first_model' from a GitHub using git commands and evaluate the model."
   ]
  },
  {
   "cell_type": "code",
   "execution_count": null,
   "metadata": {},
   "outputs": [],
   "source": []
  },
  {
   "cell_type": "markdown",
   "metadata": {},
   "source": [
    "Bring the second version of a linear regression model sklearn 'second_model' from GitHub using git commands, and evaluate the model."
   ]
  },
  {
   "cell_type": "code",
   "execution_count": null,
   "metadata": {},
   "outputs": [],
   "source": []
  },
  {
   "cell_type": "markdown",
   "metadata": {},
   "source": [
    "#### T3.2: Evaluate the linear regression model with evaluation metrics R2 and RMSE using OLS and sklearn library. (weightage - 4 marks) (AE)"
   ]
  },
  {
   "cell_type": "markdown",
   "metadata": {},
   "source": [
    "**Evaluate the OLS model**"
   ]
  },
  {
   "cell_type": "markdown",
   "metadata": {},
   "source": [
    "#### NOTE\n",
    "* Make the predictions on the test set using the provided OLS linear regression model \n",
    "* Calculate the RMSE by comparing the predicted selling prices with the actual selling prices in the test set, using the mean_squared_error function from scikit-learn.\n",
    "* Calculate the R-squared (R²) value using the rsquared attribute of the linear regression model.\n",
    "* Return both `RMSE` and `R²` value."
   ]
  },
  {
   "cell_type": "code",
   "execution_count": null,
   "metadata": {},
   "outputs": [],
   "source": [
    "from sklearn.metrics import mean_squared_error\n",
    "def ols_calculate_rmse_r2(model, test_data):\n",
    "    rmse,r_squared = 0.0,0.0\n",
    "    # Making predictions on the test set\n",
    "    \n",
    "\n",
    "    # Calculating RMSE\n",
    "    \n",
    "    \n",
    "    return rmse,r_squared"
   ]
  },
  {
   "cell_type": "code",
   "execution_count": null,
   "metadata": {},
   "outputs": [],
   "source": [
    "ols_rmse, ols_r_squared = ols_calculate_rmse_r2(ols_model, test_data)"
   ]
  },
  {
   "cell_type": "code",
   "execution_count": null,
   "metadata": {},
   "outputs": [],
   "source": [
    "# OLS Model RMSE value\n",
    "print (ols_rmse)"
   ]
  },
  {
   "cell_type": "code",
   "execution_count": null,
   "metadata": {},
   "outputs": [],
   "source": [
    "# OLS R2 value\n",
    "print (ols_r_squared)"
   ]
  },
  {
   "cell_type": "markdown",
   "metadata": {},
   "source": [
    "**Evaluate the Sklearn model**"
   ]
  },
  {
   "cell_type": "markdown",
   "metadata": {},
   "source": [
    "#### NOTE:\n",
    "* Make the predictions using a trained scikit-learn model (model) on a test dataset (X_test)\n",
    "* Using the trained model predict the target variable for the provided test dataset (X_test) using the predict() method of the model.\n",
    "* Return the predicted target variable values"
   ]
  },
  {
   "cell_type": "code",
   "execution_count": null,
   "metadata": {},
   "outputs": [],
   "source": [
    "def test_the_sklearn_model(model, X_test: np.ndarray) -> np.ndarray:\n",
    "    y_prediction = np.ndarray([])\n",
    "    # code starts here\n",
    "\n",
    "    # code ends here\n",
    "    return y_prediction"
   ]
  },
  {
   "cell_type": "code",
   "execution_count": null,
   "metadata": {},
   "outputs": [],
   "source": [
    "y_pred=test_the_sklearn_model(sklearn_model,X_test)\n",
    "y_pred"
   ]
  },
  {
   "cell_type": "markdown",
   "metadata": {},
   "source": [
    "**Evaluate the model with evaluation metric R2 and RMSE**"
   ]
  },
  {
   "cell_type": "code",
   "execution_count": null,
   "metadata": {},
   "outputs": [],
   "source": [
    "from sklearn.metrics import r2_score, mean_squared_error\n",
    "def calculate_r_squared_sklearn(y_true, y_pred):\n",
    "    \"\"\"\n",
    "    Calculate the R-squared (coefficient of determination) metric using scikit-learn.\n",
    "\n",
    "    Parameters:\n",
    "    y_true : numpy.ndarray\n",
    "        True target values.\n",
    "    y_pred : numpy.ndarray\n",
    "        Predicted target values.\n",
    "\n",
    "    Returns:\n",
    "    float\n",
    "        R-squared value.\n",
    "    \"\"\"\n",
    "    r_squared = None\n",
    "    # Code starts here\n",
    "  \n",
    "    # Code ends here\n",
    "    return r_squared"
   ]
  },
  {
   "cell_type": "code",
   "execution_count": null,
   "metadata": {},
   "outputs": [],
   "source": [
    "def calculate_rmse_sklearn(y_true, y_pred):\n",
    "    \"\"\"\n",
    "    Calculate the Root Mean Squared Error (RMSE) metric using scikit-learn.\n",
    "\n",
    "    Parameters:\n",
    "    y_true : numpy.ndarray\n",
    "        True target values.\n",
    "    y_pred : numpy.ndarray\n",
    "        Predicted target values.\n",
    "\n",
    "    Returns:\n",
    "    float\n",
    "        RMSE value.\n",
    "    \"\"\"\n",
    "    rmse = None\n",
    "    # Code starts here\n",
    "   \n",
    "    # Code ends here     \n",
    "    return rmse"
   ]
  },
  {
   "cell_type": "code",
   "execution_count": null,
   "metadata": {},
   "outputs": [],
   "source": [
    "# Calculate R-squared\n",
    "r_squared = calculate_r_squared_sklearn(y_test, y_pred)\n",
    "print(r_squared)"
   ]
  },
  {
   "cell_type": "code",
   "execution_count": null,
   "metadata": {},
   "outputs": [],
   "source": [
    "# Calculate RMSE\n",
    "rmse = calculate_rmse_sklearn(y_test, y_pred)\n",
    "print(rmse)"
   ]
  },
  {
   "cell_type": "markdown",
   "metadata": {},
   "source": [
    "#### T3.3:Remove the insignificant variables which identified by OLS and multicollinearity -VIF technique. Then apply log transformation on target variable and build the model using sklearn library. Save the version of this linear regression model named 'final_model' to a Github, and evaluate it with R2 and RMSE(weightage - 5 marks) (AE)"
   ]
  },
  {
   "cell_type": "markdown",
   "metadata": {},
   "source": [
    "**Remove insignificant variable**\n",
    "#### NOTE:\n",
    "* Because of multicollinearity issue drop the variable engine\n",
    "* Because of insignificance drop the variables - City_region, owner, Sales_status"
   ]
  },
  {
   "cell_type": "code",
   "execution_count": null,
   "metadata": {},
   "outputs": [],
   "source": [
    "def drop_variables(data):\n",
    "    \n",
    "    return data"
   ]
  },
  {
   "cell_type": "code",
   "execution_count": null,
   "metadata": {},
   "outputs": [],
   "source": [
    "cleaned_car_sales=drop_variables(cleaned_car_sales)"
   ]
  },
  {
   "cell_type": "markdown",
   "metadata": {},
   "source": [
    "**Apply Log transformation on target variable**\n",
    "\n",
    "#### NOTE:\n",
    "* Transform the target variable 'selling_price' into its natural logarithm ('ln_selling_price') using the numpy log function\n",
    "* Return the ln_selling_price' column, which contains the transformed target variable values."
   ]
  },
  {
   "cell_type": "code",
   "execution_count": null,
   "metadata": {},
   "outputs": [],
   "source": [
    "def target_transform(data):\n",
    "   \n",
    "   return data[\"ln_selling_price\"]"
   ]
  },
  {
   "cell_type": "code",
   "execution_count": null,
   "metadata": {},
   "outputs": [],
   "source": [
    "target_transform(cleaned_car_sales)"
   ]
  },
  {
   "cell_type": "markdown",
   "metadata": {},
   "source": [
    "**Separate independent features and target variable**\n",
    "#### NOTE:\n",
    "* Extract the feature variables (X) by dropping the columns 'ln_selling_price' and 'selling_price' from the DataFrame df using the drop() method\n",
    "* Extract the target variable (y) by selecting only the 'ln_selling_price' column from the DataFrame df."
   ]
  },
  {
   "cell_type": "code",
   "execution_count": null,
   "metadata": {},
   "outputs": [],
   "source": [
    "def separate_data_and_target_new(df):\n",
    "    X,y = np.ndarray([]),np.ndarray([])\n",
    "    # Code starts here\n",
    "   \n",
    "    # Code ends here\n",
    "    return X,y"
   ]
  },
  {
   "cell_type": "code",
   "execution_count": null,
   "metadata": {},
   "outputs": [],
   "source": [
    "X, y = separate_data_and_target_new(cleaned_car_sales)"
   ]
  },
  {
   "cell_type": "code",
   "execution_count": null,
   "metadata": {},
   "outputs": [],
   "source": [
    "# split into training and testing \n",
    "X_train, X_test,y_train,y_test=split_into_train_and_test_normalize_features(X,y)"
   ]
  },
  {
   "cell_type": "code",
   "execution_count": null,
   "metadata": {},
   "outputs": [],
   "source": [
    "final_model=fit_the_model_on_the_training_data(cleaned_car_sales,X_train,y_train)"
   ]
  },
  {
   "cell_type": "markdown",
   "metadata": {},
   "source": [
    "#### Model Versioning: \n",
    "\n",
    "Save the above version of a linear regression model (sklearn) codebase named 'final_model' to a version control system GitHub using git commandsin git bash, if required facilitating collaboration, tracking changes, and ensuring transparency in model development."
   ]
  },
  {
   "cell_type": "code",
   "execution_count": null,
   "metadata": {},
   "outputs": [],
   "source": []
  },
  {
   "cell_type": "markdown",
   "metadata": {},
   "source": [
    "#### Model Versioning: \n",
    "\n",
    "Bring the above version of a linear regression model skelarn 'final_model' from GitHub using git commands, and evaluate the model."
   ]
  },
  {
   "cell_type": "code",
   "execution_count": null,
   "metadata": {},
   "outputs": [],
   "source": []
  },
  {
   "cell_type": "code",
   "execution_count": null,
   "metadata": {},
   "outputs": [],
   "source": [
    "#Test the model on the testing dataset and return the predicted values for the test dataset\n",
    "def test_the_finalmodel(model1, X_test): \n",
    "    y_prediction = np.ndarray([])\n",
    "    # code starts here\n",
    "   \n",
    "    # code ends here\n",
    "    return y_prediction"
   ]
  },
  {
   "cell_type": "code",
   "execution_count": null,
   "metadata": {},
   "outputs": [],
   "source": [
    "#prediction\n",
    "y_pred_1=test_the_finalmodel(final_model, X_test)"
   ]
  },
  {
   "cell_type": "code",
   "execution_count": null,
   "metadata": {},
   "outputs": [],
   "source": [
    "def calculate_r_squared_finalmodel(y_true, y_pred):\n",
    "    \"\"\"\n",
    "    Calculate the R-squared (coefficient of determination) metric using scikit-learn.\n",
    "\n",
    "    Parameters:\n",
    "    y_true : numpy.ndarray\n",
    "        True target values.\n",
    "    y_pred : numpy.ndarray\n",
    "        Predicted target values.\n",
    "\n",
    "    Returns:\n",
    "    float\n",
    "        R-squared value.\n",
    "    \"\"\"\n",
    "    r_squared = None\n",
    "    # Code starts here\n",
    "\n",
    "    # Code ends here \n",
    "    return r_squared"
   ]
  },
  {
   "cell_type": "code",
   "execution_count": null,
   "metadata": {},
   "outputs": [],
   "source": [
    "def calculate_rmse_finalmodel(y_true, y_pred):\n",
    "    \"\"\"\n",
    "    Calculate the Root Mean Squared Error (RMSE) metric using scikit-learn.\n",
    "\n",
    "    Parameters:\n",
    "    y_true : numpy.ndarray\n",
    "        True target values.\n",
    "    y_pred : numpy.ndarray\n",
    "        Predicted target values.\n",
    "\n",
    "    Returns:\n",
    "    float\n",
    "        RMSE value.\n",
    "    \"\"\"\n",
    "    rmse = None\n",
    "    # Code starts here\n",
    "\n",
    "\n",
    "    # Code ends here \n",
    "    \n",
    "    return rmse"
   ]
  },
  {
   "cell_type": "code",
   "execution_count": null,
   "metadata": {},
   "outputs": [],
   "source": [
    "#r-squared\n",
    "r_squared_final_model = calculate_r_squared_finalmodel(y_test, y_pred_1)\n",
    "print(r_squared_final_model)"
   ]
  },
  {
   "cell_type": "code",
   "execution_count": null,
   "metadata": {},
   "outputs": [],
   "source": [
    "#rmse\n",
    "rmse_final_model = calculate_rmse_finalmodel(y_test, y_pred_1)\n",
    "print(rmse_final_model)"
   ]
  },
  {
   "cell_type": "markdown",
   "metadata": {},
   "source": [
    "#### T3.4 Interpret R2 value and explain how one-unit change in mileage impacts the predicted sales price? (weightage - 3 marks) (ME)"
   ]
  },
  {
   "cell_type": "markdown",
   "metadata": {},
   "source": [
    "- An R-squared (R2) value of 0.86 indicates that approximately 86% of the variance in the target variable\n",
    "- The model is able to explain a large proportion of the variability in the sales prices of used cars based on the chosen features.\n",
    "- R2 value of 0.86 indicates a strong relationship between the features and the sales prices of used cars, suggesting that the model has good predictive power."
   ]
  },
  {
   "cell_type": "code",
   "execution_count": null,
   "metadata": {},
   "outputs": [],
   "source": [
    "# Get the coefficient for the 'km_driven' feature\n",
    "def coefficient_km():\n",
    "    km_driven_coefficient = None\n",
    "    # Code starts here\n",
    " \n",
    "    # Code ends here\n",
    "    return km_driven_coefficient"
   ]
  },
  {
   "cell_type": "code",
   "execution_count": null,
   "metadata": {},
   "outputs": [],
   "source": [
    "coefficient_km()"
   ]
  },
  {
   "cell_type": "markdown",
   "metadata": {},
   "source": [
    "#### T3.5: Ensure residues are random i.e. normally distributed using histplot / QQ plot (weightage - 2 marks) (ME)\n",
    "#### NOTE:\n",
    "* Create a histogram plot of the residuals (the differences between the actual and predicted values of the target variable) using Seaborn's histplot function. "
   ]
  },
  {
   "cell_type": "code",
   "execution_count": null,
   "metadata": {},
   "outputs": [],
   "source": [
    "def residual_plot(y_test, y_pred):\n",
    "\n",
    "\n",
    "  return"
   ]
  },
  {
   "cell_type": "code",
   "execution_count": null,
   "metadata": {},
   "outputs": [],
   "source": [
    "residual_plot(y_test, y_pred_1)"
   ]
  },
  {
   "cell_type": "markdown",
   "metadata": {},
   "source": [
    "#### NOTE:\n",
    "* Generate a Q-Q plot to visually assess the normality of residuals. "
   ]
  },
  {
   "cell_type": "code",
   "execution_count": null,
   "metadata": {},
   "outputs": [],
   "source": [
    "# Add Q-Q plot for residual normality\n",
    "def QQ_plot(y_test, y_pred):\n",
    "\n",
    "    return"
   ]
  },
  {
   "cell_type": "code",
   "execution_count": null,
   "metadata": {},
   "outputs": [],
   "source": [
    "QQ_plot(y_test,y_pred_1)"
   ]
  },
  {
   "cell_type": "markdown",
   "metadata": {},
   "source": [
    "#### T3.6 Utilize Lime/SHAP libraries, explain the prediction of your regression model and give inferences. (weightage - 4 marks)  (ME)"
   ]
  },
  {
   "cell_type": "code",
   "execution_count": null,
   "metadata": {},
   "outputs": [],
   "source": []
  },
  {
   "cell_type": "markdown",
   "metadata": {},
   "source": [
    "#### T3.7:Implement the unit test case and deploy a model using Flask / Streamlit. (weightage - 15 marks) (ME)"
   ]
  },
  {
   "cell_type": "code",
   "execution_count": null,
   "metadata": {},
   "outputs": [],
   "source": []
  },
  {
   "cell_type": "code",
   "execution_count": null,
   "metadata": {},
   "outputs": [],
   "source": []
  },
  {
   "cell_type": "code",
   "execution_count": null,
   "metadata": {},
   "outputs": [],
   "source": []
  },
  {
   "cell_type": "code",
   "execution_count": null,
   "metadata": {},
   "outputs": [],
   "source": []
  },
  {
   "cell_type": "markdown",
   "metadata": {},
   "source": [
    "### Task 4: Summarize the findings of the analysis and draw conclusions with PPT / PDF. (weightage - 15 marks) (ME)"
   ]
  },
  {
   "cell_type": "code",
   "execution_count": null,
   "metadata": {},
   "outputs": [],
   "source": []
  },
  {
   "cell_type": "markdown",
   "metadata": {},
   "source": [
    "## Comparing linear regression with other models\n",
    "\n",
    "Advantages of linear regression:\n",
    "\n",
    "\n",
    "\n",
    "Disadvantages of linear regression:\n",
    "\n",
    "\n"
   ]
  },
  {
   "cell_type": "markdown",
   "metadata": {},
   "source": [
    "### Final Submission guidelines:\n",
    "\n",
    "* Download the Jupyter notebook in the format of html.\n",
    "* Upload it in the lumen (UNext LMS)\n",
    "* Take a screenshot of T3.7 (Deployment) and upload it in the lumen (UNext LMS) \n",
    "* Summarized PPT/ PDF prepared in Task 4 to be uploaded in the lumen (UNext LMS)"
   ]
  },
  {
   "cell_type": "markdown",
   "metadata": {},
   "source": [
    "-------------------------------------------------- **ASSESSMENT ENDS HERE** ---------------------------------------------------------"
   ]
  }
 ],
 "metadata": {
  "kernelspec": {
   "display_name": "Python 3 (ipykernel)",
   "language": "python",
   "name": "python3"
  },
  "language_info": {
   "codemirror_mode": {
    "name": "ipython",
    "version": 3
   },
   "file_extension": ".py",
   "mimetype": "text/x-python",
   "name": "python",
   "nbconvert_exporter": "python",
   "pygments_lexer": "ipython3",
   "version": "3.8.10"
  }
 },
 "nbformat": 4,
 "nbformat_minor": 2
}
